{
  "nbformat": 4,
  "nbformat_minor": 0,
  "metadata": {
    "accelerator": "GPU",
    "colab": {
      "name": "ARMCNN_MTP_PubHealth_Data_W2V.ipynb",
      "provenance": [],
      "collapsed_sections": []
    },
    "kernelspec": {
      "display_name": "Python 3",
      "name": "python3"
    }
  },
  "cells": [
    {
      "cell_type": "markdown",
      "metadata": {
        "id": "Ep-omcJMH3Lv"
      },
      "source": [
        "## Connecting Google Drive with the notebook"
      ]
    },
    {
      "cell_type": "code",
      "metadata": {
        "id": "TTdXvmAD-I1o",
        "colab": {
          "base_uri": "https://localhost:8080/"
        },
        "outputId": "65dad1f6-15f4-4418-f6fc-c474fc1fdfcd"
      },
      "source": [
        "from google.colab import drive\n",
        "drive.mount('/content/drive') \n"
      ],
      "execution_count": 1,
      "outputs": [
        {
          "output_type": "stream",
          "text": [
            "Mounted at /content/drive\n"
          ],
          "name": "stdout"
        }
      ]
    },
    {
      "cell_type": "code",
      "metadata": {
        "id": "X-xnzCl2-zQq"
      },
      "source": [
        "import os,shutil\n",
        "os.chdir('./drive/My Drive/')"
      ],
      "execution_count": 2,
      "outputs": []
    },
    {
      "cell_type": "code",
      "metadata": {
        "id": "LhOyNZ2b9JdM"
      },
      "source": [
        "from tensorflow.python.client import device_lib\n",
        "\n",
        "def get_available_gpus():\n",
        "    local_device_protos = device_lib.list_local_devices()\n",
        "    return [x.name for x in local_device_protos if x.device_type == 'GPU']\n",
        "\n",
        "get_available_gpus()"
      ],
      "execution_count": null,
      "outputs": []
    },
    {
      "cell_type": "markdown",
      "metadata": {
        "id": "JHv_YwfcID_V"
      },
      "source": [
        "## Importing required libraries"
      ]
    },
    {
      "cell_type": "code",
      "metadata": {
        "id": "znqz1OSv_VAr"
      },
      "source": [
        "from pandas.io.json import json_normalize\n",
        "import pandas as pd\n",
        "import numpy as np\n",
        "import json \n",
        "from tqdm import tqdm\n",
        "import re\n",
        "\n",
        "\n",
        "import keras\n",
        "from keras.preprocessing.text import text_to_word_sequence\n",
        "from keras.preprocessing.text import Tokenizer\n",
        "from keras.preprocessing.sequence import pad_sequences\n",
        "from keras.models import Sequential\n",
        "from keras.layers import BatchNormalization,Dense , Flatten ,Embedding,Input,LSTM,Bidirectional,Conv1D,MaxPooling1D\n",
        "import tensorflow as tf\n",
        "from tensorflow.compat.v1.keras.layers import CuDNNLSTM\n",
        "from keras.models import Model\n",
        "from keras.initializers import Constant\n",
        "from keras.layers import ReLU\n",
        "from keras.layers import Dropout"
      ],
      "execution_count": 3,
      "outputs": []
    },
    {
      "cell_type": "code",
      "metadata": {
        "id": "dfZYa_lNfVn7"
      },
      "source": [
        "# Seed value (can actually be different for each attribution step)\n",
        "seed_value= 0\n",
        "\n",
        "# 1. Set `PYTHONHASHSEED` environment variable at a fixed value\n",
        "import os\n",
        "os.environ['PYTHONHASHSEED']=str(seed_value)\n",
        "\n",
        "# 2. Set `python` built-in pseudo-random generator at a fixed value\n",
        "import random\n",
        "random.seed(seed_value)\n",
        "\n",
        "# 3. Set `numpy` pseudo-random generator at a fixed value\n",
        "import numpy as np\n",
        "np.random.seed(seed_value)\n",
        "\n",
        "# 4. Set `tensorflow` pseudo-random generator at a fixed value\n",
        "import tensorflow as tf\n",
        "tf.random.set_seed(seed_value)\n",
        "\n",
        "# 5. Configure a new global `tensorflow` session\n",
        "#from keras import backend as K\n",
        "from tensorflow.compat.v1.keras import backend as K\n",
        "session_conf = tf.compat.v1.ConfigProto(intra_op_parallelism_threads=1, inter_op_parallelism_threads=1)\n",
        "sess = tf.compat.v1.Session(graph=tf.compat.v1.get_default_graph(), config=session_conf)\n",
        "K.set_session(sess)"
      ],
      "execution_count": 4,
      "outputs": []
    },
    {
      "cell_type": "markdown",
      "metadata": {
        "id": "7Rbww8eVIKyD"
      },
      "source": [
        "## Loading the dataset (train, test and validation) and some basic preprocessing"
      ]
    },
    {
      "cell_type": "code",
      "metadata": {
        "id": "yk-XwxqHV7vD"
      },
      "source": [
        "train_df = pd.read_csv('./PUBHEALTH/train.tsv',sep=\"\\t\")\n",
        "val_df = pd.read_csv('./PUBHEALTH/dev.tsv',sep=\"\\t\")\n",
        "test_df = pd.read_csv('./PUBHEALTH/test.tsv',sep=\"\\t\")"
      ],
      "execution_count": 5,
      "outputs": []
    },
    {
      "cell_type": "code",
      "metadata": {
        "colab": {
          "base_uri": "https://localhost:8080/",
          "height": 589
        },
        "id": "6JdaBOC6GVXK",
        "outputId": "bf1f0dbf-eed8-4de5-c65e-739e72c66b35"
      },
      "source": [
        "train_df"
      ],
      "execution_count": 6,
      "outputs": [
        {
          "output_type": "execute_result",
          "data": {
            "text/html": [
              "<div>\n",
              "<style scoped>\n",
              "    .dataframe tbody tr th:only-of-type {\n",
              "        vertical-align: middle;\n",
              "    }\n",
              "\n",
              "    .dataframe tbody tr th {\n",
              "        vertical-align: top;\n",
              "    }\n",
              "\n",
              "    .dataframe thead th {\n",
              "        text-align: right;\n",
              "    }\n",
              "</style>\n",
              "<table border=\"1\" class=\"dataframe\">\n",
              "  <thead>\n",
              "    <tr style=\"text-align: right;\">\n",
              "      <th></th>\n",
              "      <th>claim_id</th>\n",
              "      <th>claim</th>\n",
              "      <th>date_published</th>\n",
              "      <th>explanation</th>\n",
              "      <th>fact_checkers</th>\n",
              "      <th>main_text</th>\n",
              "      <th>sources</th>\n",
              "      <th>label</th>\n",
              "      <th>subjects</th>\n",
              "    </tr>\n",
              "  </thead>\n",
              "  <tbody>\n",
              "    <tr>\n",
              "      <th>0</th>\n",
              "      <td>15661</td>\n",
              "      <td>\"The money the Clinton Foundation took from fr...</td>\n",
              "      <td>April 26, 2015</td>\n",
              "      <td>\"Gingrich said the Clinton Foundation \"\"took m...</td>\n",
              "      <td>Katie Sanders</td>\n",
              "      <td>\"Hillary Clinton is in the political crosshair...</td>\n",
              "      <td>https://www.wsj.com/articles/clinton-foundatio...</td>\n",
              "      <td>false</td>\n",
              "      <td>Foreign Policy, PunditFact, Newt Gingrich,</td>\n",
              "    </tr>\n",
              "    <tr>\n",
              "      <th>1</th>\n",
              "      <td>9893</td>\n",
              "      <td>Annual Mammograms May Have More False-Positives</td>\n",
              "      <td>October 18, 2011</td>\n",
              "      <td>This article reports on the results of a study...</td>\n",
              "      <td></td>\n",
              "      <td>While the financial costs of screening mammogr...</td>\n",
              "      <td></td>\n",
              "      <td>mixture</td>\n",
              "      <td>Screening,WebMD,women's health</td>\n",
              "    </tr>\n",
              "    <tr>\n",
              "      <th>2</th>\n",
              "      <td>11358</td>\n",
              "      <td>SBRT Offers Prostate Cancer Patients High Canc...</td>\n",
              "      <td>September 28, 2016</td>\n",
              "      <td>This news release describes five-year outcomes...</td>\n",
              "      <td>Mary Chris Jaklevic,Steven J. Atlas, MD, MPH,K...</td>\n",
              "      <td>The news release quotes lead researcher Robert...</td>\n",
              "      <td>https://www.healthnewsreview.org/wp-content/up...</td>\n",
              "      <td>mixture</td>\n",
              "      <td>Association/Society news release,Cancer</td>\n",
              "    </tr>\n",
              "    <tr>\n",
              "      <th>3</th>\n",
              "      <td>10166</td>\n",
              "      <td>Study: Vaccine for Breast, Ovarian Cancer Has ...</td>\n",
              "      <td>November 8, 2011</td>\n",
              "      <td>While the story does many things well, the ove...</td>\n",
              "      <td></td>\n",
              "      <td>The story does discuss costs, but the framing ...</td>\n",
              "      <td>http://clinicaltrials.gov/ct2/results?term=can...</td>\n",
              "      <td>true</td>\n",
              "      <td>Cancer,WebMD,women's health</td>\n",
              "    </tr>\n",
              "    <tr>\n",
              "      <th>4</th>\n",
              "      <td>11276</td>\n",
              "      <td>Some appendicitis cases may not require ’emerg...</td>\n",
              "      <td>September 20, 2010</td>\n",
              "      <td>We really don’t understand why only a handful ...</td>\n",
              "      <td></td>\n",
              "      <td>\"Although the story didn’t cite the cost of ap...</td>\n",
              "      <td></td>\n",
              "      <td>true</td>\n",
              "      <td></td>\n",
              "    </tr>\n",
              "    <tr>\n",
              "      <th>...</th>\n",
              "      <td>...</td>\n",
              "      <td>...</td>\n",
              "      <td>...</td>\n",
              "      <td>...</td>\n",
              "      <td>...</td>\n",
              "      <td>...</td>\n",
              "      <td>...</td>\n",
              "      <td>...</td>\n",
              "      <td>...</td>\n",
              "    </tr>\n",
              "    <tr>\n",
              "      <th>9827</th>\n",
              "      <td>35948</td>\n",
              "      <td>The Sturgis motorcycle rally in 2020 resulted ...</td>\n",
              "      <td>September 10, 2020</td>\n",
              "      <td>They want to know if mass-events (protests, co...</td>\n",
              "      <td>Dan Evon</td>\n",
              "      <td>In September 2020, social media was abuzz over...</td>\n",
              "      <td></td>\n",
              "      <td>unproven</td>\n",
              "      <td>Politics Medical, COVID-19</td>\n",
              "    </tr>\n",
              "    <tr>\n",
              "      <th>9828</th>\n",
              "      <td>401</td>\n",
              "      <td>AstraZeneca's infant respiratory drug prioriti...</td>\n",
              "      <td>September 25, 1995</td>\n",
              "      <td>Britain’s AstraZeneca said a potential medicin...</td>\n",
              "      <td></td>\n",
              "      <td>The “Breakthrough Therapy” and “Prime” designa...</td>\n",
              "      <td></td>\n",
              "      <td>true</td>\n",
              "      <td>Health News</td>\n",
              "    </tr>\n",
              "    <tr>\n",
              "      <th>9829</th>\n",
              "      <td>2023</td>\n",
              "      <td>Testicular cancer deaths double with after 40 ...</td>\n",
              "      <td>February 10, 2011</td>\n",
              "      <td>Men diagnosed with testicular cancer at 40 yea...</td>\n",
              "      <td></td>\n",
              "      <td>This was true even when initial treatment and ...</td>\n",
              "      <td>http://bit.ly/fGNEw9</td>\n",
              "      <td>true</td>\n",
              "      <td>Health News</td>\n",
              "    </tr>\n",
              "    <tr>\n",
              "      <th>9830</th>\n",
              "      <td>38118</td>\n",
              "      <td>The FDA published “conclusive proof” that the...</td>\n",
              "      <td>November 22, 2017</td>\n",
              "      <td>FDA Confirms DTaP Vaccine Causes Autism in Nov...</td>\n",
              "      <td>Rich Buhler &amp; Staff</td>\n",
              "      <td>The FDA hasn’t confirmed a link between DTaP v...</td>\n",
              "      <td>https://www.truthorfiction.com/marshall-kamena...</td>\n",
              "      <td>false</td>\n",
              "      <td>Medical</td>\n",
              "    </tr>\n",
              "    <tr>\n",
              "      <th>9831</th>\n",
              "      <td>24750</td>\n",
              "      <td>On whether he wrote a provision that allowed A...</td>\n",
              "      <td>March 23, 2009</td>\n",
              "      <td>Dodd flip-flopped on whether he changed amendm...</td>\n",
              "      <td>Alexander Lane</td>\n",
              "      <td>\"Sen. Chris Dodd has been  widely panned  as t...</td>\n",
              "      <td>https://www.nytimes.com/2009/03/20/nyregion/20...</td>\n",
              "      <td>false</td>\n",
              "      <td>National, Economy, Chris Dodd,</td>\n",
              "    </tr>\n",
              "  </tbody>\n",
              "</table>\n",
              "<p>9832 rows × 9 columns</p>\n",
              "</div>"
            ],
            "text/plain": [
              "     claim_id  ...                                     subjects\n",
              "0       15661  ...  Foreign Policy, PunditFact, Newt Gingrich, \n",
              "1        9893  ...               Screening,WebMD,women's health\n",
              "2       11358  ...      Association/Society news release,Cancer\n",
              "3       10166  ...                  Cancer,WebMD,women's health\n",
              "4       11276  ...                                             \n",
              "...       ...  ...                                          ...\n",
              "9827    35948  ...                   Politics Medical, COVID-19\n",
              "9828      401  ...                                  Health News\n",
              "9829     2023  ...                                  Health News\n",
              "9830    38118  ...                                      Medical\n",
              "9831    24750  ...              National, Economy, Chris Dodd, \n",
              "\n",
              "[9832 rows x 9 columns]"
            ]
          },
          "metadata": {
            "tags": []
          },
          "execution_count": 6
        }
      ]
    },
    {
      "cell_type": "code",
      "metadata": {
        "id": "1B9sD8FQAYEY"
      },
      "source": [
        "unproven = train_df[train_df.label == 'unproven'].append(val_df[val_df.label == 'unproven']).append(test_df[test_df.label == 'unproven'])"
      ],
      "execution_count": 7,
      "outputs": []
    },
    {
      "cell_type": "code",
      "metadata": {
        "id": "u0PINmSuAogH"
      },
      "source": [
        "unproven = unproven.reset_index()"
      ],
      "execution_count": 8,
      "outputs": []
    },
    {
      "cell_type": "code",
      "metadata": {
        "colab": {
          "base_uri": "https://localhost:8080/"
        },
        "id": "SA0CgY_yFYYY",
        "outputId": "a70d3491-f01b-45b1-99b6-7f2cb5367da3"
      },
      "source": [
        "len(unproven)"
      ],
      "execution_count": 9,
      "outputs": [
        {
          "output_type": "execute_result",
          "data": {
            "text/plain": [
              "377"
            ]
          },
          "metadata": {
            "tags": []
          },
          "execution_count": 9
        }
      ]
    },
    {
      "cell_type": "code",
      "metadata": {
        "colab": {
          "base_uri": "https://localhost:8080/"
        },
        "id": "6Ejwi1lEAAzG",
        "outputId": "1740fb6a-51af-4be8-ba9b-a060cad89487"
      },
      "source": [
        "val_df.label.value_counts()"
      ],
      "execution_count": 10,
      "outputs": [
        {
          "output_type": "execute_result",
          "data": {
            "text/plain": [
              "true                                             629\n",
              "false                                            380\n",
              "mixture                                          164\n",
              "unproven                                          41\n",
              "National, Candidate Biography, Donald Trump,       1\n",
              "Name: label, dtype: int64"
            ]
          },
          "metadata": {
            "tags": []
          },
          "execution_count": 10
        }
      ]
    },
    {
      "cell_type": "code",
      "metadata": {
        "colab": {
          "base_uri": "https://localhost:8080/"
        },
        "id": "hN4ZJE59FH9M",
        "outputId": "79ae8886-012e-4423-95d9-1ec4b0cc0b2e"
      },
      "source": [
        "test_df.label.value_counts()"
      ],
      "execution_count": 11,
      "outputs": [
        {
          "output_type": "execute_result",
          "data": {
            "text/plain": [
              "true        599\n",
              "false       388\n",
              "mixture     201\n",
              "unproven     45\n",
              "Name: label, dtype: int64"
            ]
          },
          "metadata": {
            "tags": []
          },
          "execution_count": 11
        }
      ]
    },
    {
      "cell_type": "code",
      "metadata": {
        "id": "QAYn8LQYGre0"
      },
      "source": [
        "train_df = train_df[(train_df['label']=='true')|(train_df['label']=='false')|(train_df['label']=='unproven')]\n",
        "val_df = val_df[(val_df['label']=='true')|(val_df['label']=='false')|(val_df['label']=='unproven')]\n",
        "test_df = test_df[(test_df['label']=='true')|(test_df['label']=='false')|(test_df['label']=='unproven')]"
      ],
      "execution_count": 12,
      "outputs": []
    },
    {
      "cell_type": "code",
      "metadata": {
        "id": "fXBMtrqOOsSV"
      },
      "source": [
        "total_df = train_df.append(val_df).append(test_df).reset_index()"
      ],
      "execution_count": 13,
      "outputs": []
    },
    {
      "cell_type": "code",
      "metadata": {
        "colab": {
          "base_uri": "https://localhost:8080/",
          "height": 658
        },
        "id": "NQyBBtnhOzVo",
        "outputId": "83bfba0b-5b27-493b-8c2e-884202a40498"
      },
      "source": [
        "total_df"
      ],
      "execution_count": 14,
      "outputs": [
        {
          "output_type": "execute_result",
          "data": {
            "text/html": [
              "<div>\n",
              "<style scoped>\n",
              "    .dataframe tbody tr th:only-of-type {\n",
              "        vertical-align: middle;\n",
              "    }\n",
              "\n",
              "    .dataframe tbody tr th {\n",
              "        vertical-align: top;\n",
              "    }\n",
              "\n",
              "    .dataframe thead th {\n",
              "        text-align: right;\n",
              "    }\n",
              "</style>\n",
              "<table border=\"1\" class=\"dataframe\">\n",
              "  <thead>\n",
              "    <tr style=\"text-align: right;\">\n",
              "      <th></th>\n",
              "      <th>index</th>\n",
              "      <th>claim_id</th>\n",
              "      <th>claim</th>\n",
              "      <th>date_published</th>\n",
              "      <th>explanation</th>\n",
              "      <th>fact_checkers</th>\n",
              "      <th>main_text</th>\n",
              "      <th>sources</th>\n",
              "      <th>label</th>\n",
              "      <th>subjects</th>\n",
              "      <th>Unnamed: 0</th>\n",
              "    </tr>\n",
              "  </thead>\n",
              "  <tbody>\n",
              "    <tr>\n",
              "      <th>0</th>\n",
              "      <td>0</td>\n",
              "      <td>15661</td>\n",
              "      <td>\"The money the Clinton Foundation took from fr...</td>\n",
              "      <td>April 26, 2015</td>\n",
              "      <td>\"Gingrich said the Clinton Foundation \"\"took m...</td>\n",
              "      <td>Katie Sanders</td>\n",
              "      <td>\"Hillary Clinton is in the political crosshair...</td>\n",
              "      <td>https://www.wsj.com/articles/clinton-foundatio...</td>\n",
              "      <td>false</td>\n",
              "      <td>Foreign Policy, PunditFact, Newt Gingrich,</td>\n",
              "      <td>NaN</td>\n",
              "    </tr>\n",
              "    <tr>\n",
              "      <th>1</th>\n",
              "      <td>3</td>\n",
              "      <td>10166</td>\n",
              "      <td>Study: Vaccine for Breast, Ovarian Cancer Has ...</td>\n",
              "      <td>November 8, 2011</td>\n",
              "      <td>While the story does many things well, the ove...</td>\n",
              "      <td></td>\n",
              "      <td>The story does discuss costs, but the framing ...</td>\n",
              "      <td>http://clinicaltrials.gov/ct2/results?term=can...</td>\n",
              "      <td>true</td>\n",
              "      <td>Cancer,WebMD,women's health</td>\n",
              "      <td>NaN</td>\n",
              "    </tr>\n",
              "    <tr>\n",
              "      <th>2</th>\n",
              "      <td>4</td>\n",
              "      <td>11276</td>\n",
              "      <td>Some appendicitis cases may not require ’emerg...</td>\n",
              "      <td>September 20, 2010</td>\n",
              "      <td>We really don’t understand why only a handful ...</td>\n",
              "      <td></td>\n",
              "      <td>\"Although the story didn’t cite the cost of ap...</td>\n",
              "      <td></td>\n",
              "      <td>true</td>\n",
              "      <td></td>\n",
              "      <td>NaN</td>\n",
              "    </tr>\n",
              "    <tr>\n",
              "      <th>3</th>\n",
              "      <td>5</td>\n",
              "      <td>8713</td>\n",
              "      <td>Britain to reveal trial criteria for coronavir...</td>\n",
              "      <td>April 7, 2020</td>\n",
              "      <td>British regulators will this week reveal appro...</td>\n",
              "      <td>Alistair Smout</td>\n",
              "      <td>Antibody tests show whether whether people hav...</td>\n",
              "      <td></td>\n",
              "      <td>true</td>\n",
              "      <td>Health News</td>\n",
              "      <td>NaN</td>\n",
              "    </tr>\n",
              "    <tr>\n",
              "      <th>4</th>\n",
              "      <td>6</td>\n",
              "      <td>9851</td>\n",
              "      <td>Angioplasty through the wrist backed by new study</td>\n",
              "      <td>August 18, 2008</td>\n",
              "      <td>This is a good piece of reporting about a rece...</td>\n",
              "      <td></td>\n",
              "      <td>The story did not provide cost estimates for e...</td>\n",
              "      <td></td>\n",
              "      <td>true</td>\n",
              "      <td></td>\n",
              "      <td>NaN</td>\n",
              "    </tr>\n",
              "    <tr>\n",
              "      <th>...</th>\n",
              "      <td>...</td>\n",
              "      <td>...</td>\n",
              "      <td>...</td>\n",
              "      <td>...</td>\n",
              "      <td>...</td>\n",
              "      <td>...</td>\n",
              "      <td>...</td>\n",
              "      <td>...</td>\n",
              "      <td>...</td>\n",
              "      <td>...</td>\n",
              "      <td>...</td>\n",
              "    </tr>\n",
              "    <tr>\n",
              "      <th>10447</th>\n",
              "      <td>1230</td>\n",
              "      <td>3295</td>\n",
              "      <td>Christmas miracle for Florida dog whose heart ...</td>\n",
              "      <td>NaN</td>\n",
              "      <td>A Florida man was hoping for a Christmas mirac...</td>\n",
              "      <td>Associated Press</td>\n",
              "      <td>The heart of Gerald Ford’s 1-year-old French b...</td>\n",
              "      <td>https://www.gainesville.com/news/20200102/holi...</td>\n",
              "      <td>true</td>\n",
              "      <td>Animals, Health, Florida, General News, Gaines...</td>\n",
              "      <td>1230.0</td>\n",
              "    </tr>\n",
              "    <tr>\n",
              "      <th>10448</th>\n",
              "      <td>1231</td>\n",
              "      <td>6904</td>\n",
              "      <td>Another dolphin dies at Arizona aquatic facility.</td>\n",
              "      <td>NaN</td>\n",
              "      <td>A fourth dolphin has died at a Phoenix-area aq...</td>\n",
              "      <td></td>\n",
              "      <td>A statement from Dolphinaris Arizona in Scotts...</td>\n",
              "      <td></td>\n",
              "      <td>true</td>\n",
              "      <td>Arizona, Animals, Phoenix, Health, Dolphins</td>\n",
              "      <td>1231.0</td>\n",
              "    </tr>\n",
              "    <tr>\n",
              "      <th>10449</th>\n",
              "      <td>1232</td>\n",
              "      <td>13874</td>\n",
              "      <td>What the facts say\" is ... \"the best scenario ...</td>\n",
              "      <td>July 17, 2016</td>\n",
              "      <td>Priebus said, \"What the facts say\" is ... \"the...</td>\n",
              "      <td>Lauren Carroll</td>\n",
              "      <td>Republican National Committee chairman Reince ...</td>\n",
              "      <td>https://www.nytimes.com/2016/07/13/us/politics...</td>\n",
              "      <td>false</td>\n",
              "      <td>National, Children, Race and Ethnicity, Reince...</td>\n",
              "      <td>1232.0</td>\n",
              "    </tr>\n",
              "    <tr>\n",
              "      <th>10450</th>\n",
              "      <td>1233</td>\n",
              "      <td>2847</td>\n",
              "      <td>FDA advisory panel rejects J&amp;J drug for acute ...</td>\n",
              "      <td>January 16, 2014</td>\n",
              "      <td>Johnson &amp; Johnson’s anticoagulant Xarelto shou...</td>\n",
              "      <td></td>\n",
              "      <td>The panel voted 10 to 0, with one abstention, ...</td>\n",
              "      <td></td>\n",
              "      <td>true</td>\n",
              "      <td>Health News</td>\n",
              "      <td>1233.0</td>\n",
              "    </tr>\n",
              "    <tr>\n",
              "      <th>10451</th>\n",
              "      <td>1234</td>\n",
              "      <td>7394</td>\n",
              "      <td>Gene-editing Chinese scientist kept much of hi...</td>\n",
              "      <td>NaN</td>\n",
              "      <td>The Chinese scientist who says he helped make ...</td>\n",
              "      <td>Christina Larson</td>\n",
              "      <td>He Jiankui’s outsized aspirations began to tak...</td>\n",
              "      <td>https://twitter.com/larsonchristina,http://bit...</td>\n",
              "      <td>true</td>\n",
              "      <td>AP Top News, Health, Genetic Frontiers, Medica...</td>\n",
              "      <td>1234.0</td>\n",
              "    </tr>\n",
              "  </tbody>\n",
              "</table>\n",
              "<p>10452 rows × 11 columns</p>\n",
              "</div>"
            ],
            "text/plain": [
              "       index  ... Unnamed: 0\n",
              "0          0  ...        NaN\n",
              "1          3  ...        NaN\n",
              "2          4  ...        NaN\n",
              "3          5  ...        NaN\n",
              "4          6  ...        NaN\n",
              "...      ...  ...        ...\n",
              "10447   1230  ...     1230.0\n",
              "10448   1231  ...     1231.0\n",
              "10449   1232  ...     1232.0\n",
              "10450   1233  ...     1233.0\n",
              "10451   1234  ...     1234.0\n",
              "\n",
              "[10452 rows x 11 columns]"
            ]
          },
          "metadata": {
            "tags": []
          },
          "execution_count": 14
        }
      ]
    },
    {
      "cell_type": "code",
      "metadata": {
        "id": "_eKpVBVVpBG9"
      },
      "source": [
        "ctr =0 \n",
        "reviews = []\n",
        "for idx,i in enumerate(total_df.reset_index().main_text.values):\n",
        "  if ('story' in i or 'release' in i or 'article' in i) and 'cost' in i and ('discuss' in i or 'mention' in i):\n",
        "    #print(i)\n",
        "    reviews.append(idx)\n",
        "    ctr+=1"
      ],
      "execution_count": 15,
      "outputs": []
    },
    {
      "cell_type": "code",
      "metadata": {
        "colab": {
          "base_uri": "https://localhost:8080/",
          "height": 606
        },
        "id": "--U8A8TopJhw",
        "outputId": "669a3403-439f-4c1c-dbb7-7b2c1d2a6692"
      },
      "source": [
        "total_df.iloc[reviews]"
      ],
      "execution_count": 16,
      "outputs": [
        {
          "output_type": "execute_result",
          "data": {
            "text/html": [
              "<div>\n",
              "<style scoped>\n",
              "    .dataframe tbody tr th:only-of-type {\n",
              "        vertical-align: middle;\n",
              "    }\n",
              "\n",
              "    .dataframe tbody tr th {\n",
              "        vertical-align: top;\n",
              "    }\n",
              "\n",
              "    .dataframe thead th {\n",
              "        text-align: right;\n",
              "    }\n",
              "</style>\n",
              "<table border=\"1\" class=\"dataframe\">\n",
              "  <thead>\n",
              "    <tr style=\"text-align: right;\">\n",
              "      <th></th>\n",
              "      <th>index</th>\n",
              "      <th>claim_id</th>\n",
              "      <th>claim</th>\n",
              "      <th>date_published</th>\n",
              "      <th>explanation</th>\n",
              "      <th>fact_checkers</th>\n",
              "      <th>main_text</th>\n",
              "      <th>sources</th>\n",
              "      <th>label</th>\n",
              "      <th>subjects</th>\n",
              "      <th>Unnamed: 0</th>\n",
              "    </tr>\n",
              "  </thead>\n",
              "  <tbody>\n",
              "    <tr>\n",
              "      <th>1</th>\n",
              "      <td>3</td>\n",
              "      <td>10166</td>\n",
              "      <td>Study: Vaccine for Breast, Ovarian Cancer Has ...</td>\n",
              "      <td>November 8, 2011</td>\n",
              "      <td>While the story does many things well, the ove...</td>\n",
              "      <td></td>\n",
              "      <td>The story does discuss costs, but the framing ...</td>\n",
              "      <td>http://clinicaltrials.gov/ct2/results?term=can...</td>\n",
              "      <td>true</td>\n",
              "      <td>Cancer,WebMD,women's health</td>\n",
              "      <td>NaN</td>\n",
              "    </tr>\n",
              "    <tr>\n",
              "      <th>4</th>\n",
              "      <td>6</td>\n",
              "      <td>9851</td>\n",
              "      <td>Angioplasty through the wrist backed by new study</td>\n",
              "      <td>August 18, 2008</td>\n",
              "      <td>This is a good piece of reporting about a rece...</td>\n",
              "      <td></td>\n",
              "      <td>The story did not provide cost estimates for e...</td>\n",
              "      <td></td>\n",
              "      <td>true</td>\n",
              "      <td></td>\n",
              "      <td>NaN</td>\n",
              "    </tr>\n",
              "    <tr>\n",
              "      <th>7</th>\n",
              "      <td>9</td>\n",
              "      <td>10527</td>\n",
              "      <td>Poor test results for heart drugs</td>\n",
              "      <td>March 31, 2008</td>\n",
              "      <td>\"The story reports no additional cardiovascula...</td>\n",
              "      <td></td>\n",
              "      <td>\"The story does not note the cost of a typical...</td>\n",
              "      <td></td>\n",
              "      <td>false</td>\n",
              "      <td></td>\n",
              "      <td>NaN</td>\n",
              "    </tr>\n",
              "    <tr>\n",
              "      <th>10</th>\n",
              "      <td>13</td>\n",
              "      <td>11433</td>\n",
              "      <td>Cancer Activist Sounds Alarm For Early Testing...</td>\n",
              "      <td>June 17, 2009</td>\n",
              "      <td>Fails to present the nuances associated with t...</td>\n",
              "      <td></td>\n",
              "      <td>There is no discussion of cost in this story. ...</td>\n",
              "      <td></td>\n",
              "      <td>false</td>\n",
              "      <td></td>\n",
              "      <td>NaN</td>\n",
              "    </tr>\n",
              "    <tr>\n",
              "      <th>20</th>\n",
              "      <td>27</td>\n",
              "      <td>10931</td>\n",
              "      <td>Laser Used to Blast Away Cells Causing Irregul...</td>\n",
              "      <td>May 27, 2010</td>\n",
              "      <td>Another HealthDay, another story straight from...</td>\n",
              "      <td></td>\n",
              "      <td>\"No discussion of costs – a recurring and sign...</td>\n",
              "      <td></td>\n",
              "      <td>false</td>\n",
              "      <td></td>\n",
              "      <td>NaN</td>\n",
              "    </tr>\n",
              "    <tr>\n",
              "      <th>...</th>\n",
              "      <td>...</td>\n",
              "      <td>...</td>\n",
              "      <td>...</td>\n",
              "      <td>...</td>\n",
              "      <td>...</td>\n",
              "      <td>...</td>\n",
              "      <td>...</td>\n",
              "      <td>...</td>\n",
              "      <td>...</td>\n",
              "      <td>...</td>\n",
              "      <td>...</td>\n",
              "    </tr>\n",
              "    <tr>\n",
              "      <th>10436</th>\n",
              "      <td>1212</td>\n",
              "      <td>9859</td>\n",
              "      <td>Problems spur FDA caution on insulin pump</td>\n",
              "      <td>May 5, 2008</td>\n",
              "      <td>First, let’s be clear that this is a review of...</td>\n",
              "      <td></td>\n",
              "      <td>The original AP story told readers the cost of...</td>\n",
              "      <td></td>\n",
              "      <td>true</td>\n",
              "      <td></td>\n",
              "      <td>1212.0</td>\n",
              "    </tr>\n",
              "    <tr>\n",
              "      <th>10440</th>\n",
              "      <td>1221</td>\n",
              "      <td>11003</td>\n",
              "      <td>Wrist replacement surgery is a last resort for...</td>\n",
              "      <td>January 25, 2007</td>\n",
              "      <td>Patients who suffer with hand and wrist arthri...</td>\n",
              "      <td></td>\n",
              "      <td>The article fails to mention the cost of treat...</td>\n",
              "      <td></td>\n",
              "      <td>false</td>\n",
              "      <td></td>\n",
              "      <td>1221.0</td>\n",
              "    </tr>\n",
              "    <tr>\n",
              "      <th>10441</th>\n",
              "      <td>1222</td>\n",
              "      <td>10772</td>\n",
              "      <td>New psoriasis drug is more effective than curr...</td>\n",
              "      <td>July 15, 2015</td>\n",
              "      <td>The news release announces the results of a ph...</td>\n",
              "      <td>Matt Shipman,Harold J. DeMonaco, MS,Andrew Hol...</td>\n",
              "      <td>The release does not address cost at all. Whil...</td>\n",
              "      <td>https://www.healthnewsreview.org/wp-content/up...</td>\n",
              "      <td>false</td>\n",
              "      <td>Academic medical center news release,psoriasis</td>\n",
              "      <td>1222.0</td>\n",
              "    </tr>\n",
              "    <tr>\n",
              "      <th>10443</th>\n",
              "      <td>1226</td>\n",
              "      <td>10461</td>\n",
              "      <td>Researchers produce first widely protective va...</td>\n",
              "      <td>July 26, 2016</td>\n",
              "      <td>In many ways, this release provides much of th...</td>\n",
              "      <td>William Heisel,Richard Hoffman, MD,Kathlyn Stone</td>\n",
              "      <td>Because the release is presented as if the stu...</td>\n",
              "      <td>https://www.healthnewsreview.org/wp-content/up...</td>\n",
              "      <td>false</td>\n",
              "      <td>Academic medical center news release,Animal re...</td>\n",
              "      <td>1226.0</td>\n",
              "    </tr>\n",
              "    <tr>\n",
              "      <th>10444</th>\n",
              "      <td>1227</td>\n",
              "      <td>30045</td>\n",
              "      <td>A medical examiner's conclusion that Health an...</td>\n",
              "      <td>November 19, 2018</td>\n",
              "      <td>To date, we aren’t privy to a full account of ...</td>\n",
              "      <td>David Emery</td>\n",
              "      <td>On 1 November 2018, the Trump administration’s...</td>\n",
              "      <td></td>\n",
              "      <td>false</td>\n",
              "      <td>Politics Conspiracy Theories</td>\n",
              "      <td>1227.0</td>\n",
              "    </tr>\n",
              "  </tbody>\n",
              "</table>\n",
              "<p>1610 rows × 11 columns</p>\n",
              "</div>"
            ],
            "text/plain": [
              "       index  ... Unnamed: 0\n",
              "1          3  ...        NaN\n",
              "4          6  ...        NaN\n",
              "7          9  ...        NaN\n",
              "10        13  ...        NaN\n",
              "20        27  ...        NaN\n",
              "...      ...  ...        ...\n",
              "10436   1212  ...     1212.0\n",
              "10440   1221  ...     1221.0\n",
              "10441   1222  ...     1222.0\n",
              "10443   1226  ...     1226.0\n",
              "10444   1227  ...     1227.0\n",
              "\n",
              "[1610 rows x 11 columns]"
            ]
          },
          "metadata": {
            "tags": []
          },
          "execution_count": 16
        }
      ]
    },
    {
      "cell_type": "code",
      "metadata": {
        "id": "9sSb6TVKpick"
      },
      "source": [
        "total_df.drop(labels=reviews,axis=0,inplace=True)"
      ],
      "execution_count": 17,
      "outputs": []
    },
    {
      "cell_type": "code",
      "metadata": {
        "colab": {
          "base_uri": "https://localhost:8080/",
          "height": 693
        },
        "id": "a13LRH-d5Dpm",
        "outputId": "17424346-56e3-4a96-be5d-8cc2ce11aab3"
      },
      "source": [
        "total_df"
      ],
      "execution_count": 18,
      "outputs": [
        {
          "output_type": "execute_result",
          "data": {
            "text/html": [
              "<div>\n",
              "<style scoped>\n",
              "    .dataframe tbody tr th:only-of-type {\n",
              "        vertical-align: middle;\n",
              "    }\n",
              "\n",
              "    .dataframe tbody tr th {\n",
              "        vertical-align: top;\n",
              "    }\n",
              "\n",
              "    .dataframe thead th {\n",
              "        text-align: right;\n",
              "    }\n",
              "</style>\n",
              "<table border=\"1\" class=\"dataframe\">\n",
              "  <thead>\n",
              "    <tr style=\"text-align: right;\">\n",
              "      <th></th>\n",
              "      <th>index</th>\n",
              "      <th>claim_id</th>\n",
              "      <th>claim</th>\n",
              "      <th>date_published</th>\n",
              "      <th>explanation</th>\n",
              "      <th>fact_checkers</th>\n",
              "      <th>main_text</th>\n",
              "      <th>sources</th>\n",
              "      <th>label</th>\n",
              "      <th>subjects</th>\n",
              "      <th>Unnamed: 0</th>\n",
              "    </tr>\n",
              "  </thead>\n",
              "  <tbody>\n",
              "    <tr>\n",
              "      <th>0</th>\n",
              "      <td>0</td>\n",
              "      <td>15661</td>\n",
              "      <td>\"The money the Clinton Foundation took from fr...</td>\n",
              "      <td>April 26, 2015</td>\n",
              "      <td>\"Gingrich said the Clinton Foundation \"\"took m...</td>\n",
              "      <td>Katie Sanders</td>\n",
              "      <td>\"Hillary Clinton is in the political crosshair...</td>\n",
              "      <td>https://www.wsj.com/articles/clinton-foundatio...</td>\n",
              "      <td>false</td>\n",
              "      <td>Foreign Policy, PunditFact, Newt Gingrich,</td>\n",
              "      <td>NaN</td>\n",
              "    </tr>\n",
              "    <tr>\n",
              "      <th>2</th>\n",
              "      <td>4</td>\n",
              "      <td>11276</td>\n",
              "      <td>Some appendicitis cases may not require ’emerg...</td>\n",
              "      <td>September 20, 2010</td>\n",
              "      <td>We really don’t understand why only a handful ...</td>\n",
              "      <td></td>\n",
              "      <td>\"Although the story didn’t cite the cost of ap...</td>\n",
              "      <td></td>\n",
              "      <td>true</td>\n",
              "      <td></td>\n",
              "      <td>NaN</td>\n",
              "    </tr>\n",
              "    <tr>\n",
              "      <th>3</th>\n",
              "      <td>5</td>\n",
              "      <td>8713</td>\n",
              "      <td>Britain to reveal trial criteria for coronavir...</td>\n",
              "      <td>April 7, 2020</td>\n",
              "      <td>British regulators will this week reveal appro...</td>\n",
              "      <td>Alistair Smout</td>\n",
              "      <td>Antibody tests show whether whether people hav...</td>\n",
              "      <td></td>\n",
              "      <td>true</td>\n",
              "      <td>Health News</td>\n",
              "      <td>NaN</td>\n",
              "    </tr>\n",
              "    <tr>\n",
              "      <th>5</th>\n",
              "      <td>7</td>\n",
              "      <td>2768</td>\n",
              "      <td>U.S. says results encouraging for healthcare d...</td>\n",
              "      <td>January 30, 2014</td>\n",
              "      <td>The Obama administration on Thursday reported ...</td>\n",
              "      <td>David Morgan</td>\n",
              "      <td>As part of President Barack Obama’s healthcare...</td>\n",
              "      <td></td>\n",
              "      <td>true</td>\n",
              "      <td>Health News</td>\n",
              "      <td>NaN</td>\n",
              "    </tr>\n",
              "    <tr>\n",
              "      <th>6</th>\n",
              "      <td>8</td>\n",
              "      <td>2717</td>\n",
              "      <td>Latest trial in J&amp;J talc litigations gets unde...</td>\n",
              "      <td>January 8, 2019</td>\n",
              "      <td>A California jury on Monday heard opening stat...</td>\n",
              "      <td>Tina Bellon</td>\n",
              "      <td>The lawsuit brought by Terry Leavitt in Alamed...</td>\n",
              "      <td>uk.reuters.com/companies/IMTP.PA,uk.reuters.co...</td>\n",
              "      <td>true</td>\n",
              "      <td>Health News</td>\n",
              "      <td>NaN</td>\n",
              "    </tr>\n",
              "    <tr>\n",
              "      <th>...</th>\n",
              "      <td>...</td>\n",
              "      <td>...</td>\n",
              "      <td>...</td>\n",
              "      <td>...</td>\n",
              "      <td>...</td>\n",
              "      <td>...</td>\n",
              "      <td>...</td>\n",
              "      <td>...</td>\n",
              "      <td>...</td>\n",
              "      <td>...</td>\n",
              "      <td>...</td>\n",
              "    </tr>\n",
              "    <tr>\n",
              "      <th>10447</th>\n",
              "      <td>1230</td>\n",
              "      <td>3295</td>\n",
              "      <td>Christmas miracle for Florida dog whose heart ...</td>\n",
              "      <td>NaN</td>\n",
              "      <td>A Florida man was hoping for a Christmas mirac...</td>\n",
              "      <td>Associated Press</td>\n",
              "      <td>The heart of Gerald Ford’s 1-year-old French b...</td>\n",
              "      <td>https://www.gainesville.com/news/20200102/holi...</td>\n",
              "      <td>true</td>\n",
              "      <td>Animals, Health, Florida, General News, Gaines...</td>\n",
              "      <td>1230.0</td>\n",
              "    </tr>\n",
              "    <tr>\n",
              "      <th>10448</th>\n",
              "      <td>1231</td>\n",
              "      <td>6904</td>\n",
              "      <td>Another dolphin dies at Arizona aquatic facility.</td>\n",
              "      <td>NaN</td>\n",
              "      <td>A fourth dolphin has died at a Phoenix-area aq...</td>\n",
              "      <td></td>\n",
              "      <td>A statement from Dolphinaris Arizona in Scotts...</td>\n",
              "      <td></td>\n",
              "      <td>true</td>\n",
              "      <td>Arizona, Animals, Phoenix, Health, Dolphins</td>\n",
              "      <td>1231.0</td>\n",
              "    </tr>\n",
              "    <tr>\n",
              "      <th>10449</th>\n",
              "      <td>1232</td>\n",
              "      <td>13874</td>\n",
              "      <td>What the facts say\" is ... \"the best scenario ...</td>\n",
              "      <td>July 17, 2016</td>\n",
              "      <td>Priebus said, \"What the facts say\" is ... \"the...</td>\n",
              "      <td>Lauren Carroll</td>\n",
              "      <td>Republican National Committee chairman Reince ...</td>\n",
              "      <td>https://www.nytimes.com/2016/07/13/us/politics...</td>\n",
              "      <td>false</td>\n",
              "      <td>National, Children, Race and Ethnicity, Reince...</td>\n",
              "      <td>1232.0</td>\n",
              "    </tr>\n",
              "    <tr>\n",
              "      <th>10450</th>\n",
              "      <td>1233</td>\n",
              "      <td>2847</td>\n",
              "      <td>FDA advisory panel rejects J&amp;J drug for acute ...</td>\n",
              "      <td>January 16, 2014</td>\n",
              "      <td>Johnson &amp; Johnson’s anticoagulant Xarelto shou...</td>\n",
              "      <td></td>\n",
              "      <td>The panel voted 10 to 0, with one abstention, ...</td>\n",
              "      <td></td>\n",
              "      <td>true</td>\n",
              "      <td>Health News</td>\n",
              "      <td>1233.0</td>\n",
              "    </tr>\n",
              "    <tr>\n",
              "      <th>10451</th>\n",
              "      <td>1234</td>\n",
              "      <td>7394</td>\n",
              "      <td>Gene-editing Chinese scientist kept much of hi...</td>\n",
              "      <td>NaN</td>\n",
              "      <td>The Chinese scientist who says he helped make ...</td>\n",
              "      <td>Christina Larson</td>\n",
              "      <td>He Jiankui’s outsized aspirations began to tak...</td>\n",
              "      <td>https://twitter.com/larsonchristina,http://bit...</td>\n",
              "      <td>true</td>\n",
              "      <td>AP Top News, Health, Genetic Frontiers, Medica...</td>\n",
              "      <td>1234.0</td>\n",
              "    </tr>\n",
              "  </tbody>\n",
              "</table>\n",
              "<p>8842 rows × 11 columns</p>\n",
              "</div>"
            ],
            "text/plain": [
              "       index  ... Unnamed: 0\n",
              "0          0  ...        NaN\n",
              "2          4  ...        NaN\n",
              "3          5  ...        NaN\n",
              "5          7  ...        NaN\n",
              "6          8  ...        NaN\n",
              "...      ...  ...        ...\n",
              "10447   1230  ...     1230.0\n",
              "10448   1231  ...     1231.0\n",
              "10449   1232  ...     1232.0\n",
              "10450   1233  ...     1233.0\n",
              "10451   1234  ...     1234.0\n",
              "\n",
              "[8842 rows x 11 columns]"
            ]
          },
          "metadata": {
            "tags": []
          },
          "execution_count": 18
        }
      ]
    },
    {
      "cell_type": "code",
      "metadata": {
        "id": "WV5IK3biO8-m"
      },
      "source": [
        "train_df, val_df, test_df = np.split(total_df.sample(frac=1, random_state=42), \n",
        "                       [int(.8*len(total_df)), int(.9*len(total_df))])"
      ],
      "execution_count": 19,
      "outputs": []
    },
    {
      "cell_type": "code",
      "metadata": {
        "colab": {
          "base_uri": "https://localhost:8080/"
        },
        "id": "UkI392ldwgnG",
        "outputId": "38f15914-c57c-430a-e9a3-acb5662a116f"
      },
      "source": [
        "train_df.label.value_counts()"
      ],
      "execution_count": 20,
      "outputs": [
        {
          "output_type": "execute_result",
          "data": {
            "text/plain": [
              "true        4458\n",
              "false       2340\n",
              "unproven     275\n",
              "Name: label, dtype: int64"
            ]
          },
          "metadata": {
            "tags": []
          },
          "execution_count": 20
        }
      ]
    },
    {
      "cell_type": "code",
      "metadata": {
        "colab": {
          "base_uri": "https://localhost:8080/"
        },
        "id": "Hj3ffYF4wWN0",
        "outputId": "d2d0f18a-314b-4216-e4b4-3847bac73caa"
      },
      "source": [
        "len(train_df)"
      ],
      "execution_count": 21,
      "outputs": [
        {
          "output_type": "execute_result",
          "data": {
            "text/plain": [
              "7073"
            ]
          },
          "metadata": {
            "tags": []
          },
          "execution_count": 21
        }
      ]
    },
    {
      "cell_type": "code",
      "metadata": {
        "colab": {
          "base_uri": "https://localhost:8080/"
        },
        "id": "0eqwKcwkwkxR",
        "outputId": "f62df310-9802-480b-9bb9-5741778bdc41"
      },
      "source": [
        "len(val_df)"
      ],
      "execution_count": 22,
      "outputs": [
        {
          "output_type": "execute_result",
          "data": {
            "text/plain": [
              "884"
            ]
          },
          "metadata": {
            "tags": []
          },
          "execution_count": 22
        }
      ]
    },
    {
      "cell_type": "code",
      "metadata": {
        "colab": {
          "base_uri": "https://localhost:8080/"
        },
        "id": "2rzE_g46wcZX",
        "outputId": "92fb2f9a-7b5b-4adc-ecb1-0d031ebb5971"
      },
      "source": [
        "len(test_df)"
      ],
      "execution_count": 23,
      "outputs": [
        {
          "output_type": "execute_result",
          "data": {
            "text/plain": [
              "885"
            ]
          },
          "metadata": {
            "tags": []
          },
          "execution_count": 23
        }
      ]
    },
    {
      "cell_type": "code",
      "metadata": {
        "colab": {
          "base_uri": "https://localhost:8080/"
        },
        "id": "D8QTe8Qcwobh",
        "outputId": "70e3aacb-4fbf-489c-f23a-64dad63f0f69"
      },
      "source": [
        "test_df.label.value_counts()"
      ],
      "execution_count": 24,
      "outputs": [
        {
          "output_type": "execute_result",
          "data": {
            "text/plain": [
              "true        561\n",
              "false       277\n",
              "unproven     47\n",
              "Name: label, dtype: int64"
            ]
          },
          "metadata": {
            "tags": []
          },
          "execution_count": 24
        }
      ]
    },
    {
      "cell_type": "code",
      "metadata": {
        "colab": {
          "base_uri": "https://localhost:8080/"
        },
        "id": "gxHmyw3Ix7l6",
        "outputId": "8cf941c7-26ff-4a3e-dd98-71a838a783d2"
      },
      "source": [
        "import nltk\n",
        "nltk.download('stopwords')\n",
        "nltk.download('punkt')\n",
        "nltk.download('averaged_perceptron_tagger')\n",
        "from nltk.corpus import stopwords \n",
        "from nltk.tokenize import word_tokenize, sent_tokenize \n",
        "stop_words = set(stopwords.words('english')) "
      ],
      "execution_count": 25,
      "outputs": [
        {
          "output_type": "stream",
          "text": [
            "[nltk_data] Downloading package stopwords to /root/nltk_data...\n",
            "[nltk_data]   Unzipping corpora/stopwords.zip.\n",
            "[nltk_data] Downloading package punkt to /root/nltk_data...\n",
            "[nltk_data]   Unzipping tokenizers/punkt.zip.\n",
            "[nltk_data] Downloading package averaged_perceptron_tagger to\n",
            "[nltk_data]     /root/nltk_data...\n",
            "[nltk_data]   Unzipping taggers/averaged_perceptron_tagger.zip.\n"
          ],
          "name": "stdout"
        }
      ]
    },
    {
      "cell_type": "code",
      "metadata": {
        "id": "FJtG0ZCxfBiJ"
      },
      "source": [
        "contractions = {\n",
        "\"ain't\": \"am not / are not\",\n",
        "\"aren't\": \"are not / am not\",\n",
        "\"can't\": \"cannot\",\n",
        "\"can't've\": \"cannot have\",\n",
        "\"'cause\": \"because\",\n",
        "\"could've\": \"could have\",\n",
        "\"couldn't\": \"could not\",\n",
        "\"couldn't've\": \"could not have\",\n",
        "\"didn't\": \"did not\",\n",
        "\"doesn't\": \"does not\",\n",
        "\"don't\": \"do not\",\n",
        "\"hadn't\": \"had not\",\n",
        "\"hadn't've\": \"had not have\",\n",
        "\"hasn't\": \"has not\",\n",
        "\"haven't\": \"have not\",\n",
        "\"he'd\": \"he had / he would\",\n",
        "\"he'd've\": \"he would have\",\n",
        "\"he'll\": \"he shall / he will\",\n",
        "\"he'll've\": \"he shall have / he will have\",\n",
        "\"he's\": \"he has / he is\",\n",
        "\"how'd\": \"how did\",\n",
        "\"how'd'y\": \"how do you\",\n",
        "\"how'll\": \"how will\",\n",
        "\"how's\": \"how has / how is\",\n",
        "\"i'd\": \"I had / I would\",\n",
        "\"i'd've\": \"I would have\",\n",
        "\"i'll\": \"I shall / I will\",\n",
        "\"i'll've\": \"I shall have / I will have\",\n",
        "\"i'm\": \"I am\",\n",
        "\"i've\": \"I have\",\n",
        "\"isn't\": \"is not\",\n",
        "\"it'd\": \"it had / it would\",\n",
        "\"it'd've\": \"it would have\",\n",
        "\"it'll\": \"it shall / it will\",\n",
        "\"it'll've\": \"it shall have / it will have\",\n",
        "\"it's\": \"it has / it is\",\n",
        "\"let's\": \"let us\",\n",
        "\"ma'am\": \"madam\",\n",
        "\"mayn't\": \"may not\",\n",
        "\"might've\": \"might have\",\n",
        "\"mightn't\": \"might not\",\n",
        "\"mightn't've\": \"might not have\",\n",
        "\"must've\": \"must have\",\n",
        "\"mustn't\": \"must not\",\n",
        "\"mustn't've\": \"must not have\",\n",
        "\"needn't\": \"need not\",\n",
        "\"needn't've\": \"need not have\",\n",
        "\"o'clock\": \"of the clock\",\n",
        "\"oughtn't\": \"ought not\",\n",
        "\"oughtn't've\": \"ought not have\",\n",
        "\"shan't\": \"shall not\",\n",
        "\"sha'n't\": \"shall not\",\n",
        "\"shan't've\": \"shall not have\",\n",
        "\"she'd\": \"she had / she would\",\n",
        "\"she'd've\": \"she would have\",\n",
        "\"she'll\": \"she shall / she will\",\n",
        "\"she'll've\": \"she shall have / she will have\",\n",
        "\"she's\": \"she has / she is\",\n",
        "\"should've\": \"should have\",\n",
        "\"shouldn't\": \"should not\",\n",
        "\"shouldn't've\": \"should not have\",\n",
        "\"so've\": \"so have\",\n",
        "\"so's\": \"so as / so is\",\n",
        "\"that'd\": \"that would / that had\",\n",
        "\"that'd've\": \"that would have\",\n",
        "\"that's\": \"that has / that is\",\n",
        "\"there'd\": \"there had / there would\",\n",
        "\"there'd've\": \"there would have\",\n",
        "\"there's\": \"there has / there is\",\n",
        "\"they'd\": \"they had / they would\",\n",
        "\"they'd've\": \"they would have\",\n",
        "\"they'll\": \"they shall / they will\",\n",
        "\"they'll've\": \"they shall have / they will have\",\n",
        "\"they're\": \"they are\",\n",
        "\"they've\": \"they have\",\n",
        "\"to've\": \"to have\",\n",
        "\"wasn't\": \"was not\",\n",
        "\"we'd\": \"we had / we would\",\n",
        "\"we'd've\": \"we would have\",\n",
        "\"we'll\": \"we will\",\n",
        "\"we'll've\": \"we will have\",\n",
        "\"we're\": \"we are\",\n",
        "\"we've\": \"we have\",\n",
        "\"weren't\": \"were not\",\n",
        "\"what'll\": \"what shall / what will\",\n",
        "\"what'll've\": \"what shall have / what will have\",\n",
        "\"what're\": \"what are\",\n",
        "\"what's\": \"what has / what is\",\n",
        "\"what've\": \"what have\",\n",
        "\"when's\": \"when has / when is\",\n",
        "\"when've\": \"when have\",\n",
        "\"where'd\": \"where did\",\n",
        "\"where's\": \"where has / where is\",\n",
        "\"where've\": \"where have\",\n",
        "\"who'll\": \"who shall / who will\",\n",
        "\"who'll've\": \"who shall have / who will have\",\n",
        "\"who's\": \"who has / who is\",\n",
        "\"who've\": \"who have\",\n",
        "\"why's\": \"why has / why is\",\n",
        "\"why've\": \"why have\",\n",
        "\"will've\": \"will have\",\n",
        "\"won't\": \"will not\",\n",
        "\"won't've\": \"will not have\",\n",
        "\"would've\": \"would have\",\n",
        "\"wouldn't\": \"would not\",\n",
        "\"wouldn't've\": \"would not have\",\n",
        "\"y'all\": \"you all\",\n",
        "\"y'all'd\": \"you all would\",\n",
        "\"y'all'd've\": \"you all would have\",\n",
        "\"y'all're\": \"you all are\",\n",
        "\"y'all've\": \"you all have\",\n",
        "\"you'd\": \"you had / you would\",\n",
        "\"you'd've\": \"you would have\",\n",
        "\"you'll\": \"you shall / you will\",\n",
        "\"you'll've\": \"you shall have / you will have\",\n",
        "\"you're\": \"you are\",\n",
        "\"you've\": \"you have\"\n",
        "}"
      ],
      "execution_count": 26,
      "outputs": []
    },
    {
      "cell_type": "code",
      "metadata": {
        "colab": {
          "base_uri": "https://localhost:8080/"
        },
        "id": "lXl2mFHSyJ9J",
        "outputId": "60a2a931-d7db-4878-f920-a3493bfd05b1"
      },
      "source": [
        "import string\n",
        "\n",
        "\n",
        "def removeSpl(s):\n",
        "  s = s.replace(\"\\\\\",\"\")\n",
        "  s = s.replace(u'\\xa0', u' ')\n",
        "  #print(s)\n",
        "  s= s.replace('-',\" \")\n",
        "  s = s.replace('…',' ')\n",
        "  s = s.replace('_',' ')\n",
        "  #s = s.replace(\"'\",\"\")\n",
        "  translator = str.maketrans(string.punctuation.replace(\"'\",\"\"), ' '*len(string.punctuation.replace(\"'\",\"\")))\n",
        "  s = s.translate(translator)\n",
        "  s = s.replace(\"’\", \"'\")\n",
        "  s= s.replace('“',' ')\n",
        "  s = s.replace('”', ' ')\n",
        "  s = s.replace(\"‘\",\"'\")\n",
        "  for word in s.split():\n",
        "    if word.lower() in contractions:\n",
        "        #print(word)\n",
        "        s = s.replace(word, contractions[word.lower()])\n",
        "\n",
        "  s = s.replace(\"'\",'')\n",
        "  return s\n",
        "\n",
        "def toLower(s):\n",
        "   return s.lower()\n",
        "\n",
        "\n",
        "def removeURLs(s):\n",
        "  return re.sub(r'http\\S+', ' ', s)\n",
        "\n",
        "nltk.download('stopwords')\n",
        "stop = list(set(nltk.corpus.stopwords.words('english')))"
      ],
      "execution_count": 27,
      "outputs": [
        {
          "output_type": "stream",
          "text": [
            "[nltk_data] Downloading package stopwords to /root/nltk_data...\n",
            "[nltk_data]   Package stopwords is already up-to-date!\n"
          ],
          "name": "stdout"
        }
      ]
    },
    {
      "cell_type": "code",
      "metadata": {
        "colab": {
          "base_uri": "https://localhost:8080/",
          "height": 34
        },
        "id": "RNjwk5xE12ea",
        "outputId": "03b8e360-f60c-4c3d-dd40-360a69c26b9e"
      },
      "source": [
        "string.punctuation"
      ],
      "execution_count": 28,
      "outputs": [
        {
          "output_type": "execute_result",
          "data": {
            "application/vnd.google.colaboratory.intrinsic+json": {
              "type": "string"
            },
            "text/plain": [
              "'!\"#$%&\\'()*+,-./:;<=>?@[\\\\]^_`{|}~'"
            ]
          },
          "metadata": {
            "tags": []
          },
          "execution_count": 28
        }
      ]
    },
    {
      "cell_type": "code",
      "metadata": {
        "colab": {
          "base_uri": "https://localhost:8080/",
          "height": 104
        },
        "id": "f4Agb07z-6IC",
        "outputId": "0df8cc0e-c494-447c-9853-62122ffc7ec7"
      },
      "source": [
        "train_df.iloc[137].main_text"
      ],
      "execution_count": 29,
      "outputs": [
        {
          "output_type": "execute_result",
          "data": {
            "application/vnd.google.colaboratory.intrinsic+json": {
              "type": "string"
            },
            "text/plain": [
              "'\"The U.S. Senate health care bill would allow states to waive federal requirements for what insurance plans must cover. With state waivers, insurers could skip coverage of what the current Affordable Care Act now requires to be covered, known as essential health benefits like prescription drugs, laboratory services and hospitalization. Health insurance companies in those states would be able to sell lower-priced plans with less coverage. The House included the same provision in its Obamacare replacement bill, the American Health Care Act. Rep. John Faso,\\xa0a Hudson Valley Republican, defended the provision in a radio town hall before the Senate version was released. \"\"I read this provision extremely closely, and I don’t believe many, if any, governors will actually seek these waivers. It’s an extraordinarily limited waiver,\"\" Faso said. \"\"It doesn’t apply to things like maternity coverage.\"\" A spokesperson from Faso’s office said he was talking about how coverage for maternity care would still be required in New York state even if the state sought a waiver. Iinsurers are required to cover maternity care under New York state law, a distinction Faso did not make in his claim. Is Faso right that the new waivers would not apply to coverage for maternity care? Law on maternity care coverage Maternity care is included in one of ten health care categories insurance plans have to cover under federal law. Those categories, the essential health benefits, were established in 2010 as part of Obamacare. The benefits only apply to individual and group plans with 100 or fewer members, known as small group plans in New York state. Most states define small group plans as those with 50 or fewer members. The House and Senate bills would allow states to waive the essential health benefits requirement. Insurers in those states would not have to cover any benefit not mandated by that state’s law. \"\"The waiver that was included in the American Health Care Act allows states to redefine essential health benefits as it applies to individual and small market groups in their state,\"\" said Matthew Fiedler, a fellow in the Center of Health Policy at the Brookings Institution, a nonprofit public policy organization. \"\"Maternity coverage is one thing that’s considered an essential health benefit today so a state could eliminate maternity care coverage in their state,\"\" Fiedler said. Maternity coverage was not federally mandated before Obamacare. Only 18 states required it in small group and individual plans prior to the 2010 health care law according to the Kaiser Family Foundation, a health policy research organization. Large group plans, those with more than 100 members in New York state, have been required to cover maternity care since the federal 1978 Pregnancy Discrimination Act. Will could happen? The Congressional Budget Office, a federal agency that provides nonpartisan fiscal analyses for Congress, predicted maternity care coverage would be lost in states that seek a waiver. \"\"Services or benefits likely to be excluded from the EHBs in some states include maternity care, mental health and substance abuse benefits, rehabilitative and habilitative services, and pediatric dental benefits,\"\" the agency said in a report on the American Health Care Act. \"\"If a state only waives the requirement that plans offer maternity coverage, then it’s unlikely any plan would voluntarily offer maternity coverage,\"\" said Cynthia Cox, associate director for health reform and private insurance at the Kaiser Family Foundation. The CBO said maternity care may be offered by insurers in those states as a rider, or addition, to a plan. But that would not come cheap. \"\"Without maternity coverage, new moms could expect to pay about $17,000 out-of-pocket,\"\" Cox said. \"\"Or, if they tried to buy a rider, they could expect to pay more than $1,000 per month.\"\" Congress included $15 billion in the American Health Care Act for maternity care, mental health care, and substance use treatment. The CBO predicts that money will go to health care providers to reduce costs for patients instead of insurers. Our ruling Faso said a waiver in the American Health Care Act \"\"doesn’t apply to things like maternity coverage.\"\" The waiver applies specifically to maternity coverage. If a state does not require maternity coverage and is approved for a waiver, insurers there would not be required to cover maternity care.\"'"
            ]
          },
          "metadata": {
            "tags": []
          },
          "execution_count": 29
        }
      ]
    },
    {
      "cell_type": "code",
      "metadata": {
        "colab": {
          "base_uri": "https://localhost:8080/",
          "height": 104
        },
        "id": "HCFen8VHro2s",
        "outputId": "c45ea5e2-d9a1-4a0a-8e8e-0a7a90917fa7"
      },
      "source": [
        "removeSpl(train_df.iloc[137].main_text)"
      ],
      "execution_count": 30,
      "outputs": [
        {
          "output_type": "execute_result",
          "data": {
            "application/vnd.google.colaboratory.intrinsic+json": {
              "type": "string"
            },
            "text/plain": [
              "' The U S  Senate health care bill would allow states to waive federal requirements for what insurance plans must cover  With state waivers  insurers could skip coverage of what the current Affordable Care Act now requires to be covered  known as essential health benefits like prescription drugs  laboratory services and hospitalization  Health insurance companies in those states would be able to sell lower priced plans with less coverage  The House included the same provision in its Obamacare replacement bill  the American Health Care Act  Rep  John Faso  a Hudson Valley Republican  defended the provision in a radio town hall before the Senate version was released    I read this provision extremely closely  and I do not believe many  if any  governors will actually seek these waivers  it has / it is an extraordinarily limited waiver    Faso said    It does not apply to things like maternity coverage    A spokesperson from Fasos office said he was talking about how coverage for maternity care would still be required in New York state even if the state sought a waiver  Iinsurers are required to cover maternity care under New York state law  a distinction Faso did not make in his claim  Is Faso right that the new waivers would not apply to coverage for maternity care  Law on maternity care coverage Maternity care is included in one of ten health care categories insurance plans have to cover under federal law  Those categories  the essential health benefits  were established in 2010 as part of Obamacare  The benefits only apply to individual and group plans with 100 or fewer members  known as small group plans in New York state  Most states define small group plans as those with 50 or fewer members  The House and Senate bills would allow states to waive the essential health benefits requirement  Insurers in those states would not have to cover any benefit not mandated by that states law    The waiver that was included in the American Health Care Act allows states to redefine essential health benefits as it applies to individual and small market groups in their state    said Matthew Fiedler  a fellow in the Center of Health Policy at the Brookings Institution  a nonprofit public policy organization    Maternity coverage is one thing that has / that is considered an essential health benefit today so a state could eliminate maternity care coverage in their state    Fiedler said  Maternity coverage was not federally mandated before Obamacare  Only 18 states required it in small group and individual plans prior to the 2010 health care law according to the Kaiser Family Foundation  a health policy research organization  Large group plans  those with more than 100 members in New York state  have been required to cover maternity care since the federal 1978 Pregnancy Discrimination Act  Will could happen  The Congressional Budget Office  a federal agency that provides nonpartisan fiscal analyses for Congress  predicted maternity care coverage would be lost in states that seek a waiver    Services or benefits likely to be excluded from the EHBs in some states include maternity care  mental health and substance abuse benefits  rehabilitative and habilitative services  and pediatric dental benefits    the agency said in a report on the American Health Care Act    If a state only waives the requirement that plans offer maternity coverage  then it has / it is unlikely any plan would voluntarily offer maternity coverage    said Cynthia Cox  associate director for health reform and private insurance at the Kaiser Family Foundation  The CBO said maternity care may be offered by insurers in those states as a rider  or addition  to a plan  But that would not come cheap    Without maternity coverage  new moms could expect to pay about  17 000 out of pocket    Cox said    Or  if they tried to buy a rider  they could expect to pay more than  1 000 per month    Congress included  15 billion in the American Health Care Act for maternity care  mental health care  and substance use treatment  The CBO predicts that money will go to health care providers to reduce costs for patients instead of insurers  Our ruling Faso said a waiver in the American Health Care Act   does not apply to things like maternity coverage    The waiver applies specifically to maternity coverage  If a state does not require maternity coverage and is approved for a waiver  insurers there would not be required to cover maternity care  '"
            ]
          },
          "metadata": {
            "tags": []
          },
          "execution_count": 30
        }
      ]
    },
    {
      "cell_type": "markdown",
      "metadata": {
        "id": "EOVr5uHuIa9I"
      },
      "source": [
        "## Data Augmentation"
      ]
    },
    {
      "cell_type": "code",
      "metadata": {
        "id": "qqUBtpom7QW3"
      },
      "source": [
        "aug = pd.read_csv('aug_articles_translate_all2.csv')"
      ],
      "execution_count": 31,
      "outputs": []
    },
    {
      "cell_type": "code",
      "metadata": {
        "colab": {
          "base_uri": "https://localhost:8080/"
        },
        "id": "UTMLJRypGG7-",
        "outputId": "5f5f80d6-7799-45d2-8956-242f2a2ba1b3"
      },
      "source": [
        "aug.label.value_counts()"
      ],
      "execution_count": 32,
      "outputs": [
        {
          "output_type": "execute_result",
          "data": {
            "text/plain": [
              "true        10085\n",
              "false        5993\n",
              "unproven      586\n",
              "Name: label, dtype: int64"
            ]
          },
          "metadata": {
            "tags": []
          },
          "execution_count": 32
        }
      ]
    },
    {
      "cell_type": "code",
      "metadata": {
        "colab": {
          "base_uri": "https://localhost:8080/"
        },
        "id": "5pOCFB8iGlMR",
        "outputId": "6c064414-4bd4-4c52-9416-a35d53d5c48e"
      },
      "source": [
        "train_df.label.value_counts()"
      ],
      "execution_count": 33,
      "outputs": [
        {
          "output_type": "execute_result",
          "data": {
            "text/plain": [
              "true        4458\n",
              "false       2340\n",
              "unproven     275\n",
              "Name: label, dtype: int64"
            ]
          },
          "metadata": {
            "tags": []
          },
          "execution_count": 33
        }
      ]
    },
    {
      "cell_type": "code",
      "metadata": {
        "id": "iCg0-psJ-c3e"
      },
      "source": [
        "aug.claim_id = aug.claim_id.astype(str)"
      ],
      "execution_count": 34,
      "outputs": []
    },
    {
      "cell_type": "code",
      "metadata": {
        "id": "rVYJBfy-9oU0"
      },
      "source": [
        "\n",
        "common1 = aug.merge(test_df,on=['claim_id'])"
      ],
      "execution_count": 35,
      "outputs": []
    },
    {
      "cell_type": "code",
      "metadata": {
        "id": "BrC00lJb9031"
      },
      "source": [
        "common2 = aug.merge(val_df,on=['claim_id'])"
      ],
      "execution_count": 36,
      "outputs": []
    },
    {
      "cell_type": "code",
      "metadata": {
        "colab": {
          "base_uri": "https://localhost:8080/"
        },
        "id": "l-wzcgRO_M3R",
        "outputId": "6493fdcf-fc05-4ea6-c815-efafc3df40c2"
      },
      "source": [
        "len(common1)"
      ],
      "execution_count": 37,
      "outputs": [
        {
          "output_type": "execute_result",
          "data": {
            "text/plain": [
              "1401"
            ]
          },
          "metadata": {
            "tags": []
          },
          "execution_count": 37
        }
      ]
    },
    {
      "cell_type": "code",
      "metadata": {
        "colab": {
          "base_uri": "https://localhost:8080/"
        },
        "id": "xgwUIbnK_mRL",
        "outputId": "382fd568-88e6-413e-a776-da09c59f3a7c"
      },
      "source": [
        "len(common2)"
      ],
      "execution_count": 38,
      "outputs": [
        {
          "output_type": "execute_result",
          "data": {
            "text/plain": [
              "1397"
            ]
          },
          "metadata": {
            "tags": []
          },
          "execution_count": 38
        }
      ]
    },
    {
      "cell_type": "code",
      "metadata": {
        "id": "qlvgOlIa9Tin"
      },
      "source": [
        "aug_train = aug[(~aug.claim_id.isin(common1.claim_id))&(~aug.claim_id.isin(common2.claim_id))]"
      ],
      "execution_count": 39,
      "outputs": []
    },
    {
      "cell_type": "code",
      "metadata": {
        "colab": {
          "base_uri": "https://localhost:8080/",
          "height": 662
        },
        "id": "ut0vKnkJ-LxV",
        "outputId": "d5a52f27-956f-4605-8e15-9f5a795f5ef8"
      },
      "source": [
        "aug_train.head(20)"
      ],
      "execution_count": 40,
      "outputs": [
        {
          "output_type": "execute_result",
          "data": {
            "text/html": [
              "<div>\n",
              "<style scoped>\n",
              "    .dataframe tbody tr th:only-of-type {\n",
              "        vertical-align: middle;\n",
              "    }\n",
              "\n",
              "    .dataframe tbody tr th {\n",
              "        vertical-align: top;\n",
              "    }\n",
              "\n",
              "    .dataframe thead th {\n",
              "        text-align: right;\n",
              "    }\n",
              "</style>\n",
              "<table border=\"1\" class=\"dataframe\">\n",
              "  <thead>\n",
              "    <tr style=\"text-align: right;\">\n",
              "      <th></th>\n",
              "      <th>label</th>\n",
              "      <th>main_text</th>\n",
              "      <th>claim_id</th>\n",
              "    </tr>\n",
              "  </thead>\n",
              "  <tbody>\n",
              "    <tr>\n",
              "      <th>0</th>\n",
              "      <td>false</td>\n",
              "      <td>Hillary Clinton is in the political crosshairs...</td>\n",
              "      <td>15661</td>\n",
              "    </tr>\n",
              "    <tr>\n",
              "      <th>1</th>\n",
              "      <td>false</td>\n",
              "      <td>\"Hillary Clinton is in the political crosshair...</td>\n",
              "      <td>15661</td>\n",
              "    </tr>\n",
              "    <tr>\n",
              "      <th>2</th>\n",
              "      <td>true</td>\n",
              "      <td>The story speaks of costs, but the framing is ...</td>\n",
              "      <td>10166</td>\n",
              "    </tr>\n",
              "    <tr>\n",
              "      <th>3</th>\n",
              "      <td>true</td>\n",
              "      <td>The story is about cost, but the design is pro...</td>\n",
              "      <td>10166</td>\n",
              "    </tr>\n",
              "    <tr>\n",
              "      <th>4</th>\n",
              "      <td>true</td>\n",
              "      <td>\"Although the article did not mention the cost...</td>\n",
              "      <td>11276</td>\n",
              "    </tr>\n",
              "    <tr>\n",
              "      <th>5</th>\n",
              "      <td>true</td>\n",
              "      <td>\"Although the story did not mention the cost o...</td>\n",
              "      <td>11276</td>\n",
              "    </tr>\n",
              "    <tr>\n",
              "      <th>8</th>\n",
              "      <td>true</td>\n",
              "      <td>The article did not provide a cost estimate fo...</td>\n",
              "      <td>9851</td>\n",
              "    </tr>\n",
              "    <tr>\n",
              "      <th>9</th>\n",
              "      <td>true</td>\n",
              "      <td>History did not provide cost estimates for eit...</td>\n",
              "      <td>9851</td>\n",
              "    </tr>\n",
              "    <tr>\n",
              "      <th>14</th>\n",
              "      <td>false</td>\n",
              "      <td>“History does not show the cost of a typical s...</td>\n",
              "      <td>10527</td>\n",
              "    </tr>\n",
              "    <tr>\n",
              "      <th>15</th>\n",
              "      <td>false</td>\n",
              "      <td>\"The story makes no mention of the cost of a t...</td>\n",
              "      <td>10527</td>\n",
              "    </tr>\n",
              "    <tr>\n",
              "      <th>18</th>\n",
              "      <td>true</td>\n",
              "      <td>Those candidates include Lauren Underwood, a 3...</td>\n",
              "      <td>5793</td>\n",
              "    </tr>\n",
              "    <tr>\n",
              "      <th>19</th>\n",
              "      <td>true</td>\n",
              "      <td>Those candidates include Lauren Underwood, a 3...</td>\n",
              "      <td>5793</td>\n",
              "    </tr>\n",
              "    <tr>\n",
              "      <th>20</th>\n",
              "      <td>false</td>\n",
              "      <td>There is no discussion of the cost in this sto...</td>\n",
              "      <td>11433</td>\n",
              "    </tr>\n",
              "    <tr>\n",
              "      <th>21</th>\n",
              "      <td>false</td>\n",
              "      <td>There is no discussion of cost in this story. ...</td>\n",
              "      <td>11433</td>\n",
              "    </tr>\n",
              "    <tr>\n",
              "      <th>22</th>\n",
              "      <td>false</td>\n",
              "      <td>On January 31, 2018, an Amtrak train carrying ...</td>\n",
              "      <td>30635</td>\n",
              "    </tr>\n",
              "    <tr>\n",
              "      <th>23</th>\n",
              "      <td>false</td>\n",
              "      <td>On January 31, 2018, an Amtrak train carrying ...</td>\n",
              "      <td>30635</td>\n",
              "    </tr>\n",
              "    <tr>\n",
              "      <th>28</th>\n",
              "      <td>true</td>\n",
              "      <td>Authorities discovered that 182 people who inj...</td>\n",
              "      <td>3077</td>\n",
              "    </tr>\n",
              "    <tr>\n",
              "      <th>29</th>\n",
              "      <td>true</td>\n",
              "      <td>According to The Boston Globe, 182 intravenous...</td>\n",
              "      <td>3077</td>\n",
              "    </tr>\n",
              "    <tr>\n",
              "      <th>30</th>\n",
              "      <td>false</td>\n",
              "      <td>On September 18, 2017, the satirical website A...</td>\n",
              "      <td>30992</td>\n",
              "    </tr>\n",
              "    <tr>\n",
              "      <th>31</th>\n",
              "      <td>false</td>\n",
              "      <td>On September 18, 2017, the satirical website A...</td>\n",
              "      <td>30992</td>\n",
              "    </tr>\n",
              "  </tbody>\n",
              "</table>\n",
              "</div>"
            ],
            "text/plain": [
              "    label                                          main_text claim_id\n",
              "0   false  Hillary Clinton is in the political crosshairs...    15661\n",
              "1   false  \"Hillary Clinton is in the political crosshair...    15661\n",
              "2    true  The story speaks of costs, but the framing is ...    10166\n",
              "3    true  The story is about cost, but the design is pro...    10166\n",
              "4    true  \"Although the article did not mention the cost...    11276\n",
              "5    true  \"Although the story did not mention the cost o...    11276\n",
              "8    true  The article did not provide a cost estimate fo...     9851\n",
              "9    true  History did not provide cost estimates for eit...     9851\n",
              "14  false  “History does not show the cost of a typical s...    10527\n",
              "15  false  \"The story makes no mention of the cost of a t...    10527\n",
              "18   true  Those candidates include Lauren Underwood, a 3...     5793\n",
              "19   true  Those candidates include Lauren Underwood, a 3...     5793\n",
              "20  false  There is no discussion of the cost in this sto...    11433\n",
              "21  false  There is no discussion of cost in this story. ...    11433\n",
              "22  false  On January 31, 2018, an Amtrak train carrying ...    30635\n",
              "23  false  On January 31, 2018, an Amtrak train carrying ...    30635\n",
              "28   true  Authorities discovered that 182 people who inj...     3077\n",
              "29   true  According to The Boston Globe, 182 intravenous...     3077\n",
              "30  false  On September 18, 2017, the satirical website A...    30992\n",
              "31  false  On September 18, 2017, the satirical website A...    30992"
            ]
          },
          "metadata": {
            "tags": []
          },
          "execution_count": 40
        }
      ]
    },
    {
      "cell_type": "code",
      "metadata": {
        "id": "NuMgtFR4-JQQ"
      },
      "source": [
        "aug_train = aug_train.reset_index()"
      ],
      "execution_count": 41,
      "outputs": []
    },
    {
      "cell_type": "code",
      "metadata": {
        "id": "TLbYFBqPXKbf"
      },
      "source": [
        "aug_temp = aug_train.sample(n=13164,random_state=21)"
      ],
      "execution_count": 42,
      "outputs": []
    },
    {
      "cell_type": "code",
      "metadata": {
        "colab": {
          "base_uri": "https://localhost:8080/"
        },
        "id": "BgvHH9PN1Rut",
        "outputId": "3cdfbffa-3b56-4b13-f217-add3b67fe067"
      },
      "source": [
        "len(train_df)"
      ],
      "execution_count": 43,
      "outputs": [
        {
          "output_type": "execute_result",
          "data": {
            "text/plain": [
              "7073"
            ]
          },
          "metadata": {
            "tags": []
          },
          "execution_count": 43
        }
      ]
    },
    {
      "cell_type": "code",
      "metadata": {
        "id": "-ylVDNEpWarU"
      },
      "source": [
        "#aug_temp = aug[aug.label == 'false' ].sample(n=1786,random_state=21)"
      ],
      "execution_count": 44,
      "outputs": []
    },
    {
      "cell_type": "code",
      "metadata": {
        "id": "L9Ui-_VHygJc"
      },
      "source": [
        "temp = train_df.append(aug_temp).drop_duplicates()"
      ],
      "execution_count": 45,
      "outputs": []
    },
    {
      "cell_type": "code",
      "metadata": {
        "id": "1EucJE1v7dal"
      },
      "source": [
        "temp = temp[['label','main_text','claim_id']]"
      ],
      "execution_count": 46,
      "outputs": []
    },
    {
      "cell_type": "code",
      "metadata": {
        "colab": {
          "base_uri": "https://localhost:8080/"
        },
        "id": "nt4CE1R5P3nm",
        "outputId": "a0c124d4-b6f5-4c58-ca18-dde40fbf07f8"
      },
      "source": [
        "temp.label.value_counts()"
      ],
      "execution_count": 47,
      "outputs": [
        {
          "output_type": "execute_result",
          "data": {
            "text/plain": [
              "true        12355\n",
              "false        7172\n",
              "unproven      710\n",
              "Name: label, dtype: int64"
            ]
          },
          "metadata": {
            "tags": []
          },
          "execution_count": 47
        }
      ]
    },
    {
      "cell_type": "code",
      "metadata": {
        "colab": {
          "base_uri": "https://localhost:8080/",
          "height": 104
        },
        "id": "NmRcvx4EQwCz",
        "outputId": "fb0e1413-8c7d-459f-f023-7ee49ba9c1b4"
      },
      "source": [
        "train_df[train_df.claim_id == '3077'].main_text.values[0]"
      ],
      "execution_count": 48,
      "outputs": [
        {
          "output_type": "execute_result",
          "data": {
            "application/vnd.google.colaboratory.intrinsic+json": {
              "type": "string"
            },
            "text/plain": [
              "'Officials discovered that there were 182 intravenous drug users who were affected in Lowell and Lawrence between 2015 and 2019, The Boston Globe reported. The number of cases dropped after the summer of 2018 after a campaign to increase access to treatment. There were six new cases diagnosed in Boston in December 2018 before a similar campaign was launched, and cases dropped down until fall of 2019. “We do seem to see a growing number of very, very vulnerable people with substance use disorder, with injection drug use, in great need for care,” said Dr. Jennifer K. Brody, director of HIV services at the Boston Health Care for the Homeless Program. The state has increased the number of needle exchanges from five in 2015 to 33, in an attempt to provide clean injection supplies and training, the paper reported. Infections among people who inject drugs declined 91% between 2000 and 2014. “What we’re seeing is the need for much more aggressive street outreach,” said Carl Sciortino, vice president of government relations for Fenway Health.'"
            ]
          },
          "metadata": {
            "tags": []
          },
          "execution_count": 48
        }
      ]
    },
    {
      "cell_type": "code",
      "metadata": {
        "colab": {
          "base_uri": "https://localhost:8080/",
          "height": 104
        },
        "id": "HAF5vxQvPk97",
        "outputId": "91078fe3-b025-4849-a817-85286b095b5f"
      },
      "source": [
        "aug_train[aug_train.claim_id == '3077'].main_text.values[0]"
      ],
      "execution_count": 49,
      "outputs": [
        {
          "output_type": "execute_result",
          "data": {
            "application/vnd.google.colaboratory.intrinsic+json": {
              "type": "string"
            },
            "text/plain": [
              "'Authorities discovered that 182 people who inject drugs were affected in Lowell and Lawrence between 2015 and 2019, the Boston Globe reported. The number of cases fell after the summer of 2018 after a campaign to improve access to treatment. There were six new cases diagnosed in Boston in December 2018 before a similar campaign was launched, and cases dropped until the fall of 2019. “We seem to see a growing number of very, very vulnerable people with substance use disorders, with injection drug use, which is in great need of care, ”said Dr. Jennifer K. Brody, director of HIV services at Boston Health Care for the Homeless Program. The state increased the number of needle exchanges from five in 2015 to 33, with the aim of providing clean injection supplies and training, the newspaper reported. Infections among people who inject drugs declined 91% between 2000 and 2014. \"What we are seeing is the need for much more aggressive street outreach,\" said Carl Sciortino, vice president of relations government for Fenway Health.'"
            ]
          },
          "metadata": {
            "tags": []
          },
          "execution_count": 49
        }
      ]
    },
    {
      "cell_type": "code",
      "metadata": {
        "colab": {
          "base_uri": "https://localhost:8080/",
          "height": 104
        },
        "id": "sAwpC_NjQC-3",
        "outputId": "0632ab96-9c3a-4dad-b432-db05de95505f"
      },
      "source": [
        "aug_train[aug_train.claim_id == '3077'].main_text.values[1]"
      ],
      "execution_count": 50,
      "outputs": [
        {
          "output_type": "execute_result",
          "data": {
            "application/vnd.google.colaboratory.intrinsic+json": {
              "type": "string"
            },
            "text/plain": [
              "'According to The Boston Globe, 182 intravenous drug users were affected between 2015 and 2019 in Lowell and Lawrence. The number of cases decreased after the summer of 2018 following a campaign to improve access to treatment. In December 2018, six new cases were diagnosed in Boston before a similar campaign was launched, and cases declined by fall 2019. \"We seem to be seeing a growing number of very, very vulnerable people with substance use disorders and injectable drug use in dire need of care,\" said Dr. Jennifer K. Brody, director of HIV services at Boston Health Care for the Homeless Program. The state has increased the number of needle changes from five in 2015 to 33 to ensure clean injection supply and training, the paper reported. Infections in people who inject drugs decreased 91% between 2000 and 2014. \"We see the need for much more aggressive public relations on the street,\" said Carl Sciortino, vice president of government relations for Fenway Health.'"
            ]
          },
          "metadata": {
            "tags": []
          },
          "execution_count": 50
        }
      ]
    },
    {
      "cell_type": "code",
      "metadata": {
        "id": "vmgtUpHwGvAa"
      },
      "source": [
        "temp = temp.reset_index()"
      ],
      "execution_count": 51,
      "outputs": []
    },
    {
      "cell_type": "code",
      "metadata": {
        "id": "0eLHcp4EzDSt"
      },
      "source": [
        "labels = {'true':1,'false':0,'unproven':0}"
      ],
      "execution_count": 52,
      "outputs": []
    },
    {
      "cell_type": "code",
      "metadata": {
        "id": "Svd02-DtywXp"
      },
      "source": [
        "temp.label = [labels[item] for item in temp.label]"
      ],
      "execution_count": 53,
      "outputs": []
    },
    {
      "cell_type": "code",
      "metadata": {
        "id": "BshmX14uPxo0"
      },
      "source": [
        "train_df.label = [labels[item] for item in train_df.label]"
      ],
      "execution_count": 54,
      "outputs": []
    },
    {
      "cell_type": "code",
      "metadata": {
        "id": "6FzAq_dO9cwQ"
      },
      "source": [
        "test_df.label = [labels[item] for item in test_df.label]"
      ],
      "execution_count": 55,
      "outputs": []
    },
    {
      "cell_type": "code",
      "metadata": {
        "id": "0VLvbBdzRl3g"
      },
      "source": [
        "val_df.label = [labels[item] for item in val_df.label]"
      ],
      "execution_count": 56,
      "outputs": []
    },
    {
      "cell_type": "code",
      "metadata": {
        "id": "VyNaPGrRv0ZN"
      },
      "source": [
        ""
      ],
      "execution_count": 56,
      "outputs": []
    },
    {
      "cell_type": "code",
      "metadata": {
        "colab": {
          "base_uri": "https://localhost:8080/"
        },
        "id": "Tony8ck57lxL",
        "outputId": "f6a5170f-04b5-4300-c1d3-bb78ec9176e1"
      },
      "source": [
        "len(temp)"
      ],
      "execution_count": 57,
      "outputs": [
        {
          "output_type": "execute_result",
          "data": {
            "text/plain": [
              "20237"
            ]
          },
          "metadata": {
            "tags": []
          },
          "execution_count": 57
        }
      ]
    },
    {
      "cell_type": "markdown",
      "metadata": {
        "id": "8TfhuzKMIfpB"
      },
      "source": [
        "## Cleaning text and converting it into tokens"
      ]
    },
    {
      "cell_type": "code",
      "metadata": {
        "colab": {
          "base_uri": "https://localhost:8080/"
        },
        "id": "vY_oOqlDyJ9N",
        "outputId": "04d23269-100f-4bc5-a778-476d149750cd"
      },
      "source": [
        "preprocessed_articles = []\n",
        "for i,sentance in tqdm(enumerate(temp['main_text'].values[:])):\n",
        "   # print(sentance)\n",
        "    #print(i)\n",
        "    sentance = removeURLs(sentance)\n",
        "   # print(sentance)\n",
        "    sentance = toLower(sentance)\n",
        "    #print(sentance)\n",
        "    sentance = removeSpl(sentance)\n",
        "    #print(sentance)\n",
        "    #sentance = ' '.join(e.lower() for e in sentance.split())\n",
        "    #print(sentance)\n",
        "    preprocessed_articles.append(sentance.split())\n",
        "    #temp['main_text'] = temp['main_text'].replace([temp[temp.index==i]['main_text'].values[0]],sentance)\n",
        "    #print(temp[temp.index==i]['main_text'].values[0])\n",
        "  "
      ],
      "execution_count": 58,
      "outputs": [
        {
          "output_type": "stream",
          "text": [
            "20237it [00:11, 1776.66it/s]\n"
          ],
          "name": "stderr"
        }
      ]
    },
    {
      "cell_type": "code",
      "metadata": {
        "colab": {
          "base_uri": "https://localhost:8080/"
        },
        "id": "fix7_PP283S_",
        "outputId": "386b9b13-ad2e-4fdb-a0f3-3b2fa594b9dd"
      },
      "source": [
        "preprocessed_articles_test = []\n",
        "for i,sentance in tqdm(enumerate(test_df['main_text'].values[:])):\n",
        "   # print(sentance)\n",
        "    #print(i)\n",
        "    sentance = removeURLs(sentance)\n",
        "   # print(sentance)\n",
        "    sentance = toLower(sentance)\n",
        "    #print(sentance)\n",
        "    sentance = removeSpl(sentance)\n",
        "    #print(sentance)\n",
        "    sentance = ' '.join(e.lower() for e in sentance.split())\n",
        "    #print(sentance)\n",
        "    preprocessed_articles_test.append(sentance.split())\n",
        "   # temp['main_text'] = temp['main_text'].replace([temp[temp.index==i]['main_text'].values[0]],sentance)"
      ],
      "execution_count": 59,
      "outputs": [
        {
          "output_type": "stream",
          "text": [
            "885it [00:00, 1372.03it/s]\n"
          ],
          "name": "stderr"
        }
      ]
    },
    {
      "cell_type": "code",
      "metadata": {
        "colab": {
          "base_uri": "https://localhost:8080/"
        },
        "id": "-1AcmxhzSx3g",
        "outputId": "ccc77a19-3722-4248-bb22-b4e4530cca54"
      },
      "source": [
        "preprocessed_articles_val = []\n",
        "for i,sentance in tqdm(enumerate(val_df['main_text'].values[:])):\n",
        "   # print(sentance)\n",
        "    #print(i)\n",
        "    sentance = removeURLs(sentance)\n",
        "   # print(sentance)\n",
        "    sentance = toLower(sentance)\n",
        "    #print(sentance)\n",
        "    sentance = removeSpl(sentance)\n",
        "    #print(sentance)\n",
        "    #sentance = ' '.join(e.lower() for e in sentance.split())\n",
        "    #print(sentance)\n",
        "    preprocessed_articles_val.append(sentance.split())"
      ],
      "execution_count": 60,
      "outputs": [
        {
          "output_type": "stream",
          "text": [
            "884it [00:00, 1642.14it/s]\n"
          ],
          "name": "stderr"
        }
      ]
    },
    {
      "cell_type": "code",
      "metadata": {
        "colab": {
          "base_uri": "https://localhost:8080/"
        },
        "id": "8TJ9y62WFeZq",
        "outputId": "22701884-2d77-4551-c7d2-73d6bbcaf288"
      },
      "source": [
        "temp.label.value_counts()"
      ],
      "execution_count": 61,
      "outputs": [
        {
          "output_type": "execute_result",
          "data": {
            "text/plain": [
              "1    12355\n",
              "0     7882\n",
              "Name: label, dtype: int64"
            ]
          },
          "metadata": {
            "tags": []
          },
          "execution_count": 61
        }
      ]
    },
    {
      "cell_type": "code",
      "metadata": {
        "id": "yBLs-Bnj9JWA"
      },
      "source": [
        "x_train = preprocessed_articles\n",
        "x_test = preprocessed_articles_test\n",
        "x_val = preprocessed_articles_val\n"
      ],
      "execution_count": 62,
      "outputs": []
    },
    {
      "cell_type": "code",
      "metadata": {
        "id": "RnjjkdKDENro"
      },
      "source": [
        "y_train = temp.label\n",
        "y_test = test_df.label\n",
        "y_val = val_df.label"
      ],
      "execution_count": 63,
      "outputs": []
    },
    {
      "cell_type": "code",
      "metadata": {
        "colab": {
          "base_uri": "https://localhost:8080/"
        },
        "id": "hccgebXLnydH",
        "outputId": "9f2c0f0a-eeca-4468-b65e-676863e40418"
      },
      "source": [
        "len(x_train)"
      ],
      "execution_count": 64,
      "outputs": [
        {
          "output_type": "execute_result",
          "data": {
            "text/plain": [
              "20237"
            ]
          },
          "metadata": {
            "tags": []
          },
          "execution_count": 64
        }
      ]
    },
    {
      "cell_type": "code",
      "metadata": {
        "colab": {
          "base_uri": "https://localhost:8080/"
        },
        "id": "jsQNhPOrpkVX",
        "outputId": "46838d23-79bd-4f9e-a839-98aba3e0c8a2"
      },
      "source": [
        "len(y_train)"
      ],
      "execution_count": 65,
      "outputs": [
        {
          "output_type": "execute_result",
          "data": {
            "text/plain": [
              "20237"
            ]
          },
          "metadata": {
            "tags": []
          },
          "execution_count": 65
        }
      ]
    },
    {
      "cell_type": "markdown",
      "metadata": {
        "id": "igphRLi1sbjx"
      },
      "source": [
        "##Tokenizer"
      ]
    },
    {
      "cell_type": "code",
      "metadata": {
        "id": "eGAUf9QNKjTK"
      },
      "source": [
        "tok = Tokenizer()\n",
        "tok.fit_on_texts(x_train)\n",
        "tok.fit_on_texts(x_val)\n",
        "#tok.fit_on_texts(x_test)\n",
        "encd_rev_train = tok.texts_to_sequences(x_train)\n",
        "encd_rev_test = tok.texts_to_sequences(x_test)\n",
        "encd_rev_val = tok.texts_to_sequences(x_val)"
      ],
      "execution_count": 66,
      "outputs": []
    },
    {
      "cell_type": "markdown",
      "metadata": {
        "id": "BoKQS_X3sobP"
      },
      "source": [
        "## Padding"
      ]
    },
    {
      "cell_type": "code",
      "metadata": {
        "colab": {
          "base_uri": "https://localhost:8080/"
        },
        "id": "qhaueXpwILcX",
        "outputId": "949f1ecf-7731-42d7-a733-314ef98e7275"
      },
      "source": [
        "maxi = 0\n",
        "sum = 0\n",
        "for i in preprocessed_articles:\n",
        "  #if len(i) > 1000:\n",
        "  sum+=len(i)\n",
        "  if len(i)>maxi:\n",
        "    maxi = len(i)\n",
        "\n",
        "maxi"
      ],
      "execution_count": 67,
      "outputs": [
        {
          "output_type": "execute_result",
          "data": {
            "text/plain": [
              "7040"
            ]
          },
          "metadata": {
            "tags": []
          },
          "execution_count": 67
        }
      ]
    },
    {
      "cell_type": "code",
      "metadata": {
        "colab": {
          "base_uri": "https://localhost:8080/"
        },
        "id": "Rl_5dQqxzYcb",
        "outputId": "1e58ba8a-c29b-4cc1-aac0-8df960778914"
      },
      "source": [
        "sum/len(preprocessed_articles)"
      ],
      "execution_count": 68,
      "outputs": [
        {
          "output_type": "execute_result",
          "data": {
            "text/plain": [
              "687.9869051736918"
            ]
          },
          "metadata": {
            "tags": []
          },
          "execution_count": 68
        }
      ]
    },
    {
      "cell_type": "code",
      "metadata": {
        "colab": {
          "base_uri": "https://localhost:8080/"
        },
        "id": "TJFrVMF6IexD",
        "outputId": "851b654c-80a7-4a5a-fe16-f570e6035f9e"
      },
      "source": [
        "max_rev_len= 2000  # max length of a review\n",
        "size_of_vocabulary=len(tok.word_index) + 1 #+1 for padding\n",
        "print(size_of_vocabulary)\n",
        "#embed_dim= 50 # embedding dimension as choosen in word2vec constructor"
      ],
      "execution_count": 69,
      "outputs": [
        {
          "output_type": "stream",
          "text": [
            "97196\n"
          ],
          "name": "stdout"
        }
      ]
    },
    {
      "cell_type": "code",
      "metadata": {
        "colab": {
          "base_uri": "https://localhost:8080/"
        },
        "id": "D7cqn6kIJNLt",
        "outputId": "38e379bb-14ab-4d83-8bb3-807dd402f102"
      },
      "source": [
        "pad_rev_train = pad_sequences(encd_rev_train, maxlen=max_rev_len, padding='pre')\n",
        "pad_rev_test = pad_sequences(encd_rev_test, maxlen=max_rev_len, padding='pre')\n",
        "pad_rev_val = pad_sequences(encd_rev_val, maxlen=max_rev_len, padding='pre')\n",
        "pad_rev_train.shape "
      ],
      "execution_count": 70,
      "outputs": [
        {
          "output_type": "execute_result",
          "data": {
            "text/plain": [
              "(20237, 2000)"
            ]
          },
          "metadata": {
            "tags": []
          },
          "execution_count": 70
        }
      ]
    },
    {
      "cell_type": "markdown",
      "metadata": {
        "id": "60LOpwEEpXSV"
      },
      "source": [
        "## Pretrained Glove Embeddings"
      ]
    },
    {
      "cell_type": "code",
      "metadata": {
        "colab": {
          "base_uri": "https://localhost:8080/"
        },
        "id": "g4m6uSiypayK",
        "outputId": "0a88edfc-8982-490b-f7a7-0e89fbb931b7"
      },
      "source": [
        "embeddings_index = dict()\n",
        "f = open('./glove.6B.300d.txt')\n",
        "\n",
        "for line in f:\n",
        "    values = line.split()\n",
        "    word = values[0]\n",
        "    coefs = np.asarray(values[1:], dtype='float32')\n",
        "    embeddings_index[word] = coefs\n",
        "\n",
        "f.close()\n",
        "print('Loaded %s word vectors.' % len(embeddings_index))"
      ],
      "execution_count": 71,
      "outputs": [
        {
          "output_type": "stream",
          "text": [
            "Loaded 400000 word vectors.\n"
          ],
          "name": "stdout"
        }
      ]
    },
    {
      "cell_type": "code",
      "metadata": {
        "id": "jdG9RK7WpiYE"
      },
      "source": [
        "# create a weight matrix for words in training docs\n",
        "embed_matrix = np.zeros((size_of_vocabulary, 300))\n",
        "ctr=0\n",
        "for word, i in tok.word_index.items():\n",
        "    word = word.translate(str.maketrans(\"\", \"\", string.punctuation))\n",
        "    word = word.split('—')[0]\n",
        "    word = word.split('–')[0]\n",
        "    embedding_vector = embeddings_index.get(word.lstrip().rstrip())\n",
        "    if embedding_vector is None:\n",
        "      embedding_vector = embeddings_index.get(word[1:].lstrip().rstrip())\n",
        "    if embedding_vector is None:\n",
        "      embedding_vector = embeddings_index.get(word[:-1].lstrip().rstrip())\n",
        "    if embedding_vector is not None:\n",
        "        embed_matrix[i] = embedding_vector\n",
        "    else:\n",
        "        #print(word)\n",
        "        ctr+=1\n"
      ],
      "execution_count": 72,
      "outputs": []
    },
    {
      "cell_type": "code",
      "metadata": {
        "colab": {
          "base_uri": "https://localhost:8080/"
        },
        "id": "gWbWVdI28qcc",
        "outputId": "f7944330-5409-4f57-a0d6-334026671348"
      },
      "source": [
        "ctr"
      ],
      "execution_count": 73,
      "outputs": [
        {
          "output_type": "execute_result",
          "data": {
            "text/plain": [
              "19271"
            ]
          },
          "metadata": {
            "tags": []
          },
          "execution_count": 73
        }
      ]
    },
    {
      "cell_type": "code",
      "metadata": {
        "colab": {
          "base_uri": "https://localhost:8080/"
        },
        "id": "P6IfKAS4FF91",
        "outputId": "50445983-dc8e-4264-c7c6-daf320c892b4"
      },
      "source": [
        "embed_matrix.shape"
      ],
      "execution_count": 74,
      "outputs": [
        {
          "output_type": "execute_result",
          "data": {
            "text/plain": [
              "(97196, 300)"
            ]
          },
          "metadata": {
            "tags": []
          },
          "execution_count": 74
        }
      ]
    },
    {
      "cell_type": "markdown",
      "metadata": {
        "id": "bxlBM8jnpQNa"
      },
      "source": [
        "##Model"
      ]
    },
    {
      "cell_type": "code",
      "metadata": {
        "id": "gePFwx1fNQBD"
      },
      "source": [
        "from tensorflow.keras import initializers\n",
        "from tensorflow.keras import regularizers,constraints\n",
        "from tensorflow.keras.layers import Layer\n",
        "def dot_product(x, kernel):\n",
        "    \"\"\"\n",
        "    Wrapper for dot product operation, in order to be compatible with both\n",
        "    Theano and Tensorflow\n",
        "    Args:\n",
        "        x (): input\n",
        "        kernel (): weights\n",
        "    Returns:\n",
        "    \"\"\"\n",
        "    if K.backend() == 'tensorflow':\n",
        "        return K.squeeze(K.dot(x, K.expand_dims(kernel)), axis=-1)\n",
        "    else:\n",
        "        return K.dot(x, kernel)\n",
        "    \n",
        "\n",
        "class AttentionWithContext(Layer):\n",
        "    \"\"\"\n",
        "    Attention operation, with a context/query vector, for temporal data.\n",
        "    Supports Masking.\n",
        "    Follows the work of Yang et al. [https://www.cs.cmu.edu/~diyiy/docs/naacl16.pdf]\n",
        "    \"Hierarchical Attention Networks for Document Classification\"\n",
        "    by using a context vector to assist the attention\n",
        "    # Input shape\n",
        "        3D tensor with shape: `(samples, steps, features)`.\n",
        "    # Output shape\n",
        "        2D tensor with shape: `(samples, features)`.\n",
        "    How to use:\n",
        "    Just put it on top of an RNN Layer (GRU/LSTM/SimpleRNN) with return_sequences=True.\n",
        "    The dimensions are inferred based on the output shape of the RNN.\n",
        "    Note: The layer has been tested with Keras 2.0.6\n",
        "    Example:\n",
        "        model.add(LSTM(64, return_sequences=True))\n",
        "        model.add(AttentionWithContext())\n",
        "        # next add a Dense layer (for classification/regression) or whatever...\n",
        "    \"\"\"\n",
        "\n",
        "    def __init__(self,\n",
        "                 W_regularizer=None, u_regularizer=None, b_regularizer=None,\n",
        "                 W_constraint=None, u_constraint=None, b_constraint=None,\n",
        "                 bias=True, **kwargs):\n",
        "\n",
        "        self.supports_masking = True\n",
        "        self.init = initializers.get('glorot_uniform')\n",
        "\n",
        "        self.W_regularizer = regularizers.get(W_regularizer)\n",
        "        self.u_regularizer = regularizers.get(u_regularizer)\n",
        "        self.b_regularizer = regularizers.get(b_regularizer)\n",
        "\n",
        "        self.W_constraint = constraints.get(W_constraint)\n",
        "        self.u_constraint = constraints.get(u_constraint)\n",
        "        self.b_constraint = constraints.get(b_constraint)\n",
        "\n",
        "        self.bias = bias\n",
        "        super(AttentionWithContext, self).__init__(**kwargs)\n",
        "\n",
        "    def get_config(self):\n",
        "      config = super().get_config().copy()\n",
        "      config.update({\n",
        "              'W_regularizer': self.W_regularizer,\n",
        "              'u_regularizer': self.u_regularizer,\n",
        "              'b_regularizer': self.b_regularizer,\n",
        "              'W_constraint': self.W_constraint,\n",
        "              'u_constraint': self.u_constraint,\n",
        "              'b_constraint': self.b_constraint,\n",
        "              'bias': self.bias,\n",
        "      })\n",
        "      return config\n",
        "\n",
        "    def create_custom_objects():\n",
        "      instance_holder = {\"instance\": None}\n",
        "\n",
        "      class ClassWrapper(AttentionWithContext):\n",
        "          def __init__(self, *args, **kwargs):\n",
        "              instance_holder[\"instance\"] = self\n",
        "              super(ClassWrapper, self).__init__(*args, **kwargs)\n",
        "\n",
        "      def loss(*args):\n",
        "          method = getattr(instance_holder[\"instance\"], \"loss_function\")\n",
        "          return method(*args)\n",
        "\n",
        "      def accuracy(*args):\n",
        "          method = getattr(instance_holder[\"instance\"], \"accuracy\")\n",
        "          return method(*args)\n",
        "      return {\"ClassWrapper\": ClassWrapper ,\"AttentionWithContext\": ClassWrapper, \"loss\": loss,\n",
        "              \"accuracy\":accuracy}\n",
        "\n",
        "    def build(self, input_shape):\n",
        "        assert len(input_shape) == 3\n",
        "\n",
        "        self.W = self.add_weight(shape=(input_shape[-1], input_shape[-1],),\n",
        "                                 initializer=self.init,\n",
        "                                 name='{}_W'.format(self.name),\n",
        "                                 regularizer=self.W_regularizer,\n",
        "                                 constraint=self.W_constraint)\n",
        "        if self.bias:\n",
        "            self.b = self.add_weight(shape=(input_shape[-1],),\n",
        "                                     initializer='zero',\n",
        "                                     name='{}_b'.format(self.name),\n",
        "                                     regularizer=self.b_regularizer,\n",
        "                                     constraint=self.b_constraint)\n",
        "\n",
        "        self.u = self.add_weight(shape=(input_shape[-1],),\n",
        "                                 initializer=self.init,\n",
        "                                 name='{}_u'.format(self.name),\n",
        "                                 regularizer=self.u_regularizer,\n",
        "                                 constraint=self.u_constraint)\n",
        "\n",
        "        super(AttentionWithContext, self).build(input_shape)\n",
        "\n",
        "    def compute_mask(self, input, input_mask=None):\n",
        "        # do not pass the mask to the next layers\n",
        "        return None\n",
        "\n",
        "    def call(self, x, mask=None):\n",
        "        uit = dot_product(x, self.W)\n",
        "\n",
        "        if self.bias:\n",
        "            uit += self.b\n",
        "\n",
        "        uit = K.tanh(uit)\n",
        "        ait = dot_product(uit, self.u)\n",
        "\n",
        "        a = K.exp(ait)\n",
        "\n",
        "        # apply mask after the exp. will be re-normalized next\n",
        "        if mask is not None:\n",
        "            # Cast the mask to floatX to avoid float64 upcasting in theano\n",
        "            a *= K.cast(mask, K.floatx())\n",
        "\n",
        "        # in some cases especially in the early stages of training the sum may be almost zero\n",
        "        # and this results in NaN's. A workaround is to add a very small positive number ε to the sum.\n",
        "        # a /= K.cast(K.sum(a, axis=1, keepdims=True), K.floatx())\n",
        "        a /= K.cast(K.sum(a, axis=1, keepdims=True) + K.epsilon(), K.floatx())\n",
        "\n",
        "        a = K.expand_dims(a)\n",
        "        weighted_input = x * a\n",
        "        return K.sum(weighted_input, axis=1)\n",
        "\n",
        "    def compute_output_shape(self, input_shape):\n",
        "        return input_shape[0], input_shape[-1]\n",
        "\n",
        "\n",
        "# def model_lstm_atten(embedding_matrix):\n",
        "#     inp = Input(shape=(max_rev_len,))\n",
        "#     x = Embedding(embed_matrix.shape[0], 300, weights=[embedding_matrix], trainable=False)(inp)\n",
        "#     #x = Conv1D(filters=64, kernel_size=5, padding='same', activation='relu',kernel_initializer=\"he_normal\")(x)\n",
        "#     #x = MaxPooling1D(pool_size=3)(x)\n",
        "#     x = Bidirectional(LSTM(128, return_sequences=True,kernel_initializer=\"he_normal\"))(x)\n",
        "#     x = Bidirectional(LSTM(64, return_sequences=True,kernel_initializer=\"he_normal\"))(x)\n",
        "#     x = AttentionWithContext()(x)\n",
        "#     x = Dense(64, activation=\"relu\",kernel_initializer=\"he_normal\")(x)\n",
        "#     x = Dense(1, activation=\"sigmoid\")(x)\n",
        "#     model = Model(inputs=inp, outputs=x)\n",
        "#     model.compile(loss='binary_crossentropy', optimizer=keras.optimizers.Adam(lr=0.003), metrics=['accuracy'])\n",
        "#     return model"
      ],
      "execution_count": 75,
      "outputs": []
    },
    {
      "cell_type": "code",
      "metadata": {
        "id": "o9Swor8RdsPX"
      },
      "source": [
        "from tensorflow.keras import Input, Model\n",
        "from tensorflow.keras.layers import Embedding, Dense, Concatenate, Conv1D, Bidirectional, LSTM, GlobalAveragePooling1D, GlobalMaxPooling1D,TimeDistributed\n",
        "\n",
        "#from tensorflow.python.keras.optimizers import Adam\n",
        "\n",
        "\n",
        "def get_model(embedding_matrix):\n",
        "    input = Input(shape=(max_rev_len,))\n",
        "\n",
        "    embedding = Embedding(embed_matrix.shape[0], 300, weights=[embedding_matrix], trainable=False)(input)\n",
        "\n",
        "    x_context = Bidirectional(LSTM(300, return_sequences=True))(embedding)\n",
        "    #x_context = TimeDistributed(Dense(300))(x_context)\n",
        "    x_lstm_att = LSTM(64, return_sequences=True)(embedding)\n",
        "    x_attention = AttentionWithContext()(x_lstm_att)\n",
        "    \n",
        "    l_x_context = x_context[:,:,:300]\n",
        "    r_x_context = x_context[:,:,300:]\n",
        "    # print(l_x_context.shape,r_x_context.shape)\n",
        "    #x_context_attention = TimeDistributed(Dense(2000))(x_context)\n",
        "    x = Concatenate()([l_x_context,embedding, r_x_context])\n",
        "    print(x.shape)\n",
        "\n",
        "\n",
        "    convs = []\n",
        "    for kernel_size in range(1, 5):\n",
        "        conv = Conv1D(64, kernel_size, activation='relu')(x)\n",
        "        #print(conv.shape)\n",
        "        #print(tf.reshape(x_attention, [-1, 64]))\n",
        "        for j in range(max_rev_len-i):\n",
        "          conv[:,j,:] = tf.math.multiply(tf.transpose(conv[:,j,:].reshape(conv.shape[0],64)),x_attention[:,:])\n",
        "        #conv = tf.reshape(conv, [-1, 2000, 64])\n",
        "        print(conv.shape)\n",
        "        convs.append(conv)\n",
        "        \n",
        "    poolings = [GlobalAveragePooling1D()(conv) for conv in convs] + [GlobalMaxPooling1D()(conv) for conv in convs]\n",
        "    x = Concatenate()(poolings)\n",
        "    dense = Dense(64,activation='relu')(x)\n",
        "    output = Dense(1, activation='sigmoid')(dense)\n",
        "    model = Model(inputs=input, outputs=output)\n",
        "    model.compile(loss='binary_crossentropy', optimizer=tf.keras.optimizers.Adam(lr=0.0001), metrics=['accuracy'])\n",
        "    return model"
      ],
      "execution_count": 76,
      "outputs": []
    },
    {
      "cell_type": "code",
      "metadata": {
        "id": "G3mAXz_mQcT1",
        "colab": {
          "base_uri": "https://localhost:8080/"
        },
        "outputId": "d442aaf2-2075-4064-c145-84f9e88e3e13"
      },
      "source": [
        "model = get_model(embed_matrix)"
      ],
      "execution_count": 116,
      "outputs": [
        {
          "output_type": "stream",
          "text": [
            "(None, 2000, 900)\n",
            "(None, 2000, 64)\n",
            "(None, 1999, 64)\n",
            "(None, 1998, 64)\n",
            "(None, 1997, 64)\n"
          ],
          "name": "stdout"
        }
      ]
    },
    {
      "cell_type": "code",
      "metadata": {
        "colab": {
          "base_uri": "https://localhost:8080/"
        },
        "id": "WkDdXCooiArV",
        "outputId": "c4b6a905-18b8-40cc-968a-60e81b798523"
      },
      "source": [
        "model.summary()"
      ],
      "execution_count": 117,
      "outputs": [
        {
          "output_type": "stream",
          "text": [
            "Model: \"model_7\"\n",
            "__________________________________________________________________________________________________\n",
            "Layer (type)                    Output Shape         Param #     Connected to                     \n",
            "==================================================================================================\n",
            "input_16 (InputLayer)           [(None, 2000)]       0                                            \n",
            "__________________________________________________________________________________________________\n",
            "embedding_15 (Embedding)        (None, 2000, 300)    29158800    input_16[0][0]                   \n",
            "__________________________________________________________________________________________________\n",
            "bidirectional_15 (Bidirectional (None, 2000, 600)    1442400     embedding_15[0][0]               \n",
            "__________________________________________________________________________________________________\n",
            "tf.__operators__.getitem_26 (Sl (None, 2000, 300)    0           bidirectional_15[0][0]           \n",
            "__________________________________________________________________________________________________\n",
            "tf.__operators__.getitem_27 (Sl (None, 2000, 300)    0           bidirectional_15[0][0]           \n",
            "__________________________________________________________________________________________________\n",
            "concatenate_21 (Concatenate)    (None, 2000, 900)    0           tf.__operators__.getitem_26[0][0]\n",
            "                                                                 embedding_15[0][0]               \n",
            "                                                                 tf.__operators__.getitem_27[0][0]\n",
            "__________________________________________________________________________________________________\n",
            "conv1d_33 (Conv1D)              (None, 2000, 64)     57664       concatenate_21[0][0]             \n",
            "__________________________________________________________________________________________________\n",
            "conv1d_34 (Conv1D)              (None, 1999, 64)     115264      concatenate_21[0][0]             \n",
            "__________________________________________________________________________________________________\n",
            "conv1d_35 (Conv1D)              (None, 1998, 64)     172864      concatenate_21[0][0]             \n",
            "__________________________________________________________________________________________________\n",
            "conv1d_36 (Conv1D)              (None, 1997, 64)     230464      concatenate_21[0][0]             \n",
            "__________________________________________________________________________________________________\n",
            "global_average_pooling1d_29 (Gl (None, 64)           0           conv1d_33[0][0]                  \n",
            "__________________________________________________________________________________________________\n",
            "global_average_pooling1d_30 (Gl (None, 64)           0           conv1d_34[0][0]                  \n",
            "__________________________________________________________________________________________________\n",
            "global_average_pooling1d_31 (Gl (None, 64)           0           conv1d_35[0][0]                  \n",
            "__________________________________________________________________________________________________\n",
            "global_average_pooling1d_32 (Gl (None, 64)           0           conv1d_36[0][0]                  \n",
            "__________________________________________________________________________________________________\n",
            "global_max_pooling1d_28 (Global (None, 64)           0           conv1d_33[0][0]                  \n",
            "__________________________________________________________________________________________________\n",
            "global_max_pooling1d_29 (Global (None, 64)           0           conv1d_34[0][0]                  \n",
            "__________________________________________________________________________________________________\n",
            "global_max_pooling1d_30 (Global (None, 64)           0           conv1d_35[0][0]                  \n",
            "__________________________________________________________________________________________________\n",
            "global_max_pooling1d_31 (Global (None, 64)           0           conv1d_36[0][0]                  \n",
            "__________________________________________________________________________________________________\n",
            "concatenate_22 (Concatenate)    (None, 512)          0           global_average_pooling1d_29[0][0]\n",
            "                                                                 global_average_pooling1d_30[0][0]\n",
            "                                                                 global_average_pooling1d_31[0][0]\n",
            "                                                                 global_average_pooling1d_32[0][0]\n",
            "                                                                 global_max_pooling1d_28[0][0]    \n",
            "                                                                 global_max_pooling1d_29[0][0]    \n",
            "                                                                 global_max_pooling1d_30[0][0]    \n",
            "                                                                 global_max_pooling1d_31[0][0]    \n",
            "__________________________________________________________________________________________________\n",
            "dense_14 (Dense)                (None, 64)           32832       concatenate_22[0][0]             \n",
            "__________________________________________________________________________________________________\n",
            "dense_15 (Dense)                (None, 1)            65          dense_14[0][0]                   \n",
            "==================================================================================================\n",
            "Total params: 31,210,353\n",
            "Trainable params: 2,051,553\n",
            "Non-trainable params: 29,158,800\n",
            "__________________________________________________________________________________________________\n"
          ],
          "name": "stdout"
        }
      ]
    },
    {
      "cell_type": "code",
      "metadata": {
        "id": "tOYaCsWFWC-8"
      },
      "source": [
        "es = keras.callbacks.EarlyStopping(patience=4)  \n",
        "mc= keras.callbacks.ModelCheckpoint('aug_att_rmcnn_upd_best_model_test10.h5', monitor='val_loss', mode='min', save_best_only=True,verbose=1) "
      ],
      "execution_count": 118,
      "outputs": []
    },
    {
      "cell_type": "markdown",
      "metadata": {
        "id": "nq4TjfgaI9oC"
      },
      "source": [
        "### Load the saved model (will save training time) "
      ]
    },
    {
      "cell_type": "code",
      "metadata": {
        "id": "Q5K7de7NJFQf"
      },
      "source": [
        "model = keras.models.load_model('aug_att_rmcnn_upd_best_model_test10.h5',custom_objects=AttentionWithContext.create_custom_objects())"
      ],
      "execution_count": null,
      "outputs": []
    },
    {
      "cell_type": "markdown",
      "metadata": {
        "id": "s4EKwzlRJHtH"
      },
      "source": [
        "### If you loaded the saved model, DO NOT RUN the next line as it trains the model and is time taking. If hyperparametes need to be tuned, then train."
      ]
    },
    {
      "cell_type": "code",
      "metadata": {
        "colab": {
          "base_uri": "https://localhost:8080/",
          "height": 900
        },
        "id": "kEjybYGsWOqA",
        "outputId": "e8456947-46f6-48e9-c9f9-2a3e740cccb7"
      },
      "source": [
        "history = model.fit(pad_rev_train,y_train,epochs=20,batch_size=100,validation_data=(pad_rev_val,y_val),callbacks =[es,mc])"
      ],
      "execution_count": 119,
      "outputs": [
        {
          "output_type": "stream",
          "text": [
            "Epoch 1/20\n",
            "203/203 [==============================] - 308s 1s/step - loss: 0.5395 - accuracy: 0.7150 - val_loss: 0.3448 - val_accuracy: 0.8462\n",
            "\n",
            "Epoch 00001: val_loss improved from inf to 0.34480, saving model to aug_att_rmcnn_upd_best_model_test10.h5\n",
            "Epoch 2/20\n",
            "203/203 [==============================] - 275s 1s/step - loss: 0.3437 - accuracy: 0.8543 - val_loss: 0.3321 - val_accuracy: 0.8575\n",
            "\n",
            "Epoch 00002: val_loss improved from 0.34480 to 0.33208, saving model to aug_att_rmcnn_upd_best_model_test10.h5\n",
            "Epoch 3/20\n",
            "203/203 [==============================] - 275s 1s/step - loss: 0.2925 - accuracy: 0.8793 - val_loss: 0.2921 - val_accuracy: 0.8699\n",
            "\n",
            "Epoch 00003: val_loss improved from 0.33208 to 0.29209, saving model to aug_att_rmcnn_upd_best_model_test10.h5\n",
            "Epoch 4/20\n",
            "203/203 [==============================] - 275s 1s/step - loss: 0.2462 - accuracy: 0.9116 - val_loss: 0.2862 - val_accuracy: 0.8824\n",
            "\n",
            "Epoch 00004: val_loss improved from 0.29209 to 0.28624, saving model to aug_att_rmcnn_upd_best_model_test10.h5\n",
            "Epoch 5/20\n",
            "203/203 [==============================] - 275s 1s/step - loss: 0.1963 - accuracy: 0.9325 - val_loss: 0.2810 - val_accuracy: 0.8880\n",
            "\n",
            "Epoch 00005: val_loss improved from 0.28624 to 0.28105, saving model to aug_att_rmcnn_upd_best_model_test10.h5\n",
            "Epoch 6/20\n",
            "203/203 [==============================] - 275s 1s/step - loss: 0.1533 - accuracy: 0.9524 - val_loss: 0.2782 - val_accuracy: 0.8824\n",
            "\n",
            "Epoch 00006: val_loss improved from 0.28105 to 0.27818, saving model to aug_att_rmcnn_upd_best_model_test10.h5\n",
            "Epoch 7/20\n",
            "203/203 [==============================] - 275s 1s/step - loss: 0.1104 - accuracy: 0.9726 - val_loss: 0.2833 - val_accuracy: 0.8744\n",
            "\n",
            "Epoch 00007: val_loss did not improve from 0.27818\n",
            "Epoch 8/20\n",
            "203/203 [==============================] - 275s 1s/step - loss: 0.0831 - accuracy: 0.9805 - val_loss: 0.3095 - val_accuracy: 0.8790\n",
            "\n",
            "Epoch 00008: val_loss did not improve from 0.27818\n",
            "Epoch 9/20\n",
            "  6/203 [..............................] - ETA: 4:24 - loss: 0.0532 - accuracy: 0.9944"
          ],
          "name": "stdout"
        },
        {
          "output_type": "error",
          "ename": "KeyboardInterrupt",
          "evalue": "ignored",
          "traceback": [
            "\u001b[0;31m---------------------------------------------------------------------------\u001b[0m",
            "\u001b[0;31mKeyboardInterrupt\u001b[0m                         Traceback (most recent call last)",
            "\u001b[0;32m<ipython-input-119-99f97f56f6cd>\u001b[0m in \u001b[0;36m<module>\u001b[0;34m()\u001b[0m\n\u001b[0;32m----> 1\u001b[0;31m \u001b[0mhistory\u001b[0m \u001b[0;34m=\u001b[0m \u001b[0mmodel\u001b[0m\u001b[0;34m.\u001b[0m\u001b[0mfit\u001b[0m\u001b[0;34m(\u001b[0m\u001b[0mpad_rev_train\u001b[0m\u001b[0;34m,\u001b[0m\u001b[0my_train\u001b[0m\u001b[0;34m,\u001b[0m\u001b[0mepochs\u001b[0m\u001b[0;34m=\u001b[0m\u001b[0;36m20\u001b[0m\u001b[0;34m,\u001b[0m\u001b[0mbatch_size\u001b[0m\u001b[0;34m=\u001b[0m\u001b[0;36m100\u001b[0m\u001b[0;34m,\u001b[0m\u001b[0mvalidation_data\u001b[0m\u001b[0;34m=\u001b[0m\u001b[0;34m(\u001b[0m\u001b[0mpad_rev_val\u001b[0m\u001b[0;34m,\u001b[0m\u001b[0my_val\u001b[0m\u001b[0;34m)\u001b[0m\u001b[0;34m,\u001b[0m\u001b[0mcallbacks\u001b[0m \u001b[0;34m=\u001b[0m\u001b[0;34m[\u001b[0m\u001b[0mes\u001b[0m\u001b[0;34m,\u001b[0m\u001b[0mmc\u001b[0m\u001b[0;34m]\u001b[0m\u001b[0;34m)\u001b[0m\u001b[0;34m\u001b[0m\u001b[0;34m\u001b[0m\u001b[0m\n\u001b[0m",
            "\u001b[0;32m/usr/local/lib/python3.7/dist-packages/tensorflow/python/keras/engine/training.py\u001b[0m in \u001b[0;36mfit\u001b[0;34m(self, x, y, batch_size, epochs, verbose, callbacks, validation_split, validation_data, shuffle, class_weight, sample_weight, initial_epoch, steps_per_epoch, validation_steps, validation_batch_size, validation_freq, max_queue_size, workers, use_multiprocessing)\u001b[0m\n\u001b[1;32m   1103\u001b[0m               \u001b[0mlogs\u001b[0m \u001b[0;34m=\u001b[0m \u001b[0mtmp_logs\u001b[0m  \u001b[0;31m# No error, now safe to assign to logs.\u001b[0m\u001b[0;34m\u001b[0m\u001b[0;34m\u001b[0m\u001b[0m\n\u001b[1;32m   1104\u001b[0m               \u001b[0mend_step\u001b[0m \u001b[0;34m=\u001b[0m \u001b[0mstep\u001b[0m \u001b[0;34m+\u001b[0m \u001b[0mdata_handler\u001b[0m\u001b[0;34m.\u001b[0m\u001b[0mstep_increment\u001b[0m\u001b[0;34m\u001b[0m\u001b[0;34m\u001b[0m\u001b[0m\n\u001b[0;32m-> 1105\u001b[0;31m               \u001b[0mcallbacks\u001b[0m\u001b[0;34m.\u001b[0m\u001b[0mon_train_batch_end\u001b[0m\u001b[0;34m(\u001b[0m\u001b[0mend_step\u001b[0m\u001b[0;34m,\u001b[0m \u001b[0mlogs\u001b[0m\u001b[0;34m)\u001b[0m\u001b[0;34m\u001b[0m\u001b[0;34m\u001b[0m\u001b[0m\n\u001b[0m\u001b[1;32m   1106\u001b[0m               \u001b[0;32mif\u001b[0m \u001b[0mself\u001b[0m\u001b[0;34m.\u001b[0m\u001b[0mstop_training\u001b[0m\u001b[0;34m:\u001b[0m\u001b[0;34m\u001b[0m\u001b[0;34m\u001b[0m\u001b[0m\n\u001b[1;32m   1107\u001b[0m                 \u001b[0;32mbreak\u001b[0m\u001b[0;34m\u001b[0m\u001b[0;34m\u001b[0m\u001b[0m\n",
            "\u001b[0;32m/usr/local/lib/python3.7/dist-packages/tensorflow/python/keras/callbacks.py\u001b[0m in \u001b[0;36mon_train_batch_end\u001b[0;34m(self, batch, logs)\u001b[0m\n\u001b[1;32m    452\u001b[0m     \"\"\"\n\u001b[1;32m    453\u001b[0m     \u001b[0;32mif\u001b[0m \u001b[0mself\u001b[0m\u001b[0;34m.\u001b[0m\u001b[0m_should_call_train_batch_hooks\u001b[0m\u001b[0;34m:\u001b[0m\u001b[0;34m\u001b[0m\u001b[0;34m\u001b[0m\u001b[0m\n\u001b[0;32m--> 454\u001b[0;31m       \u001b[0mself\u001b[0m\u001b[0;34m.\u001b[0m\u001b[0m_call_batch_hook\u001b[0m\u001b[0;34m(\u001b[0m\u001b[0mModeKeys\u001b[0m\u001b[0;34m.\u001b[0m\u001b[0mTRAIN\u001b[0m\u001b[0;34m,\u001b[0m \u001b[0;34m'end'\u001b[0m\u001b[0;34m,\u001b[0m \u001b[0mbatch\u001b[0m\u001b[0;34m,\u001b[0m \u001b[0mlogs\u001b[0m\u001b[0;34m=\u001b[0m\u001b[0mlogs\u001b[0m\u001b[0;34m)\u001b[0m\u001b[0;34m\u001b[0m\u001b[0;34m\u001b[0m\u001b[0m\n\u001b[0m\u001b[1;32m    455\u001b[0m \u001b[0;34m\u001b[0m\u001b[0m\n\u001b[1;32m    456\u001b[0m   \u001b[0;32mdef\u001b[0m \u001b[0mon_test_batch_begin\u001b[0m\u001b[0;34m(\u001b[0m\u001b[0mself\u001b[0m\u001b[0;34m,\u001b[0m \u001b[0mbatch\u001b[0m\u001b[0;34m,\u001b[0m \u001b[0mlogs\u001b[0m\u001b[0;34m=\u001b[0m\u001b[0;32mNone\u001b[0m\u001b[0;34m)\u001b[0m\u001b[0;34m:\u001b[0m\u001b[0;34m\u001b[0m\u001b[0;34m\u001b[0m\u001b[0m\n",
            "\u001b[0;32m/usr/local/lib/python3.7/dist-packages/tensorflow/python/keras/callbacks.py\u001b[0m in \u001b[0;36m_call_batch_hook\u001b[0;34m(self, mode, hook, batch, logs)\u001b[0m\n\u001b[1;32m    294\u001b[0m       \u001b[0mself\u001b[0m\u001b[0;34m.\u001b[0m\u001b[0m_call_batch_begin_hook\u001b[0m\u001b[0;34m(\u001b[0m\u001b[0mmode\u001b[0m\u001b[0;34m,\u001b[0m \u001b[0mbatch\u001b[0m\u001b[0;34m,\u001b[0m \u001b[0mlogs\u001b[0m\u001b[0;34m)\u001b[0m\u001b[0;34m\u001b[0m\u001b[0;34m\u001b[0m\u001b[0m\n\u001b[1;32m    295\u001b[0m     \u001b[0;32melif\u001b[0m \u001b[0mhook\u001b[0m \u001b[0;34m==\u001b[0m \u001b[0;34m'end'\u001b[0m\u001b[0;34m:\u001b[0m\u001b[0;34m\u001b[0m\u001b[0;34m\u001b[0m\u001b[0m\n\u001b[0;32m--> 296\u001b[0;31m       \u001b[0mself\u001b[0m\u001b[0;34m.\u001b[0m\u001b[0m_call_batch_end_hook\u001b[0m\u001b[0;34m(\u001b[0m\u001b[0mmode\u001b[0m\u001b[0;34m,\u001b[0m \u001b[0mbatch\u001b[0m\u001b[0;34m,\u001b[0m \u001b[0mlogs\u001b[0m\u001b[0;34m)\u001b[0m\u001b[0;34m\u001b[0m\u001b[0;34m\u001b[0m\u001b[0m\n\u001b[0m\u001b[1;32m    297\u001b[0m     \u001b[0;32melse\u001b[0m\u001b[0;34m:\u001b[0m\u001b[0;34m\u001b[0m\u001b[0;34m\u001b[0m\u001b[0m\n\u001b[1;32m    298\u001b[0m       \u001b[0;32mraise\u001b[0m \u001b[0mValueError\u001b[0m\u001b[0;34m(\u001b[0m\u001b[0;34m'Unrecognized hook: {}'\u001b[0m\u001b[0;34m.\u001b[0m\u001b[0mformat\u001b[0m\u001b[0;34m(\u001b[0m\u001b[0mhook\u001b[0m\u001b[0;34m)\u001b[0m\u001b[0;34m)\u001b[0m\u001b[0;34m\u001b[0m\u001b[0;34m\u001b[0m\u001b[0m\n",
            "\u001b[0;32m/usr/local/lib/python3.7/dist-packages/tensorflow/python/keras/callbacks.py\u001b[0m in \u001b[0;36m_call_batch_end_hook\u001b[0;34m(self, mode, batch, logs)\u001b[0m\n\u001b[1;32m    314\u001b[0m       \u001b[0mself\u001b[0m\u001b[0;34m.\u001b[0m\u001b[0m_batch_times\u001b[0m\u001b[0;34m.\u001b[0m\u001b[0mappend\u001b[0m\u001b[0;34m(\u001b[0m\u001b[0mbatch_time\u001b[0m\u001b[0;34m)\u001b[0m\u001b[0;34m\u001b[0m\u001b[0;34m\u001b[0m\u001b[0m\n\u001b[1;32m    315\u001b[0m \u001b[0;34m\u001b[0m\u001b[0m\n\u001b[0;32m--> 316\u001b[0;31m     \u001b[0mself\u001b[0m\u001b[0;34m.\u001b[0m\u001b[0m_call_batch_hook_helper\u001b[0m\u001b[0;34m(\u001b[0m\u001b[0mhook_name\u001b[0m\u001b[0;34m,\u001b[0m \u001b[0mbatch\u001b[0m\u001b[0;34m,\u001b[0m \u001b[0mlogs\u001b[0m\u001b[0;34m)\u001b[0m\u001b[0;34m\u001b[0m\u001b[0;34m\u001b[0m\u001b[0m\n\u001b[0m\u001b[1;32m    317\u001b[0m \u001b[0;34m\u001b[0m\u001b[0m\n\u001b[1;32m    318\u001b[0m     \u001b[0;32mif\u001b[0m \u001b[0mlen\u001b[0m\u001b[0;34m(\u001b[0m\u001b[0mself\u001b[0m\u001b[0;34m.\u001b[0m\u001b[0m_batch_times\u001b[0m\u001b[0;34m)\u001b[0m \u001b[0;34m>=\u001b[0m \u001b[0mself\u001b[0m\u001b[0;34m.\u001b[0m\u001b[0m_num_batches_for_timing_check\u001b[0m\u001b[0;34m:\u001b[0m\u001b[0;34m\u001b[0m\u001b[0;34m\u001b[0m\u001b[0m\n",
            "\u001b[0;32m/usr/local/lib/python3.7/dist-packages/tensorflow/python/keras/callbacks.py\u001b[0m in \u001b[0;36m_call_batch_hook_helper\u001b[0;34m(self, hook_name, batch, logs)\u001b[0m\n\u001b[1;32m    354\u001b[0m       \u001b[0mhook\u001b[0m \u001b[0;34m=\u001b[0m \u001b[0mgetattr\u001b[0m\u001b[0;34m(\u001b[0m\u001b[0mcallback\u001b[0m\u001b[0;34m,\u001b[0m \u001b[0mhook_name\u001b[0m\u001b[0;34m)\u001b[0m\u001b[0;34m\u001b[0m\u001b[0;34m\u001b[0m\u001b[0m\n\u001b[1;32m    355\u001b[0m       \u001b[0;32mif\u001b[0m \u001b[0mgetattr\u001b[0m\u001b[0;34m(\u001b[0m\u001b[0mcallback\u001b[0m\u001b[0;34m,\u001b[0m \u001b[0;34m'_supports_tf_logs'\u001b[0m\u001b[0;34m,\u001b[0m \u001b[0;32mFalse\u001b[0m\u001b[0;34m)\u001b[0m\u001b[0;34m:\u001b[0m\u001b[0;34m\u001b[0m\u001b[0;34m\u001b[0m\u001b[0m\n\u001b[0;32m--> 356\u001b[0;31m         \u001b[0mhook\u001b[0m\u001b[0;34m(\u001b[0m\u001b[0mbatch\u001b[0m\u001b[0;34m,\u001b[0m \u001b[0mlogs\u001b[0m\u001b[0;34m)\u001b[0m\u001b[0;34m\u001b[0m\u001b[0;34m\u001b[0m\u001b[0m\n\u001b[0m\u001b[1;32m    357\u001b[0m       \u001b[0;32melse\u001b[0m\u001b[0;34m:\u001b[0m\u001b[0;34m\u001b[0m\u001b[0;34m\u001b[0m\u001b[0m\n\u001b[1;32m    358\u001b[0m         \u001b[0;32mif\u001b[0m \u001b[0mnumpy_logs\u001b[0m \u001b[0;32mis\u001b[0m \u001b[0;32mNone\u001b[0m\u001b[0;34m:\u001b[0m  \u001b[0;31m# Only convert once.\u001b[0m\u001b[0;34m\u001b[0m\u001b[0;34m\u001b[0m\u001b[0m\n",
            "\u001b[0;32m/usr/local/lib/python3.7/dist-packages/tensorflow/python/keras/callbacks.py\u001b[0m in \u001b[0;36mon_train_batch_end\u001b[0;34m(self, batch, logs)\u001b[0m\n\u001b[1;32m   1018\u001b[0m \u001b[0;34m\u001b[0m\u001b[0m\n\u001b[1;32m   1019\u001b[0m   \u001b[0;32mdef\u001b[0m \u001b[0mon_train_batch_end\u001b[0m\u001b[0;34m(\u001b[0m\u001b[0mself\u001b[0m\u001b[0;34m,\u001b[0m \u001b[0mbatch\u001b[0m\u001b[0;34m,\u001b[0m \u001b[0mlogs\u001b[0m\u001b[0;34m=\u001b[0m\u001b[0;32mNone\u001b[0m\u001b[0;34m)\u001b[0m\u001b[0;34m:\u001b[0m\u001b[0;34m\u001b[0m\u001b[0;34m\u001b[0m\u001b[0m\n\u001b[0;32m-> 1020\u001b[0;31m     \u001b[0mself\u001b[0m\u001b[0;34m.\u001b[0m\u001b[0m_batch_update_progbar\u001b[0m\u001b[0;34m(\u001b[0m\u001b[0mbatch\u001b[0m\u001b[0;34m,\u001b[0m \u001b[0mlogs\u001b[0m\u001b[0;34m)\u001b[0m\u001b[0;34m\u001b[0m\u001b[0;34m\u001b[0m\u001b[0m\n\u001b[0m\u001b[1;32m   1021\u001b[0m \u001b[0;34m\u001b[0m\u001b[0m\n\u001b[1;32m   1022\u001b[0m   \u001b[0;32mdef\u001b[0m \u001b[0mon_test_batch_end\u001b[0m\u001b[0;34m(\u001b[0m\u001b[0mself\u001b[0m\u001b[0;34m,\u001b[0m \u001b[0mbatch\u001b[0m\u001b[0;34m,\u001b[0m \u001b[0mlogs\u001b[0m\u001b[0;34m=\u001b[0m\u001b[0;32mNone\u001b[0m\u001b[0;34m)\u001b[0m\u001b[0;34m:\u001b[0m\u001b[0;34m\u001b[0m\u001b[0;34m\u001b[0m\u001b[0m\n",
            "\u001b[0;32m/usr/local/lib/python3.7/dist-packages/tensorflow/python/keras/callbacks.py\u001b[0m in \u001b[0;36m_batch_update_progbar\u001b[0;34m(self, batch, logs)\u001b[0m\n\u001b[1;32m   1082\u001b[0m     \u001b[0;32mif\u001b[0m \u001b[0mself\u001b[0m\u001b[0;34m.\u001b[0m\u001b[0mverbose\u001b[0m \u001b[0;34m==\u001b[0m \u001b[0;36m1\u001b[0m\u001b[0;34m:\u001b[0m\u001b[0;34m\u001b[0m\u001b[0;34m\u001b[0m\u001b[0m\n\u001b[1;32m   1083\u001b[0m       \u001b[0;31m# Only block async when verbose = 1.\u001b[0m\u001b[0;34m\u001b[0m\u001b[0;34m\u001b[0m\u001b[0;34m\u001b[0m\u001b[0m\n\u001b[0;32m-> 1084\u001b[0;31m       \u001b[0mlogs\u001b[0m \u001b[0;34m=\u001b[0m \u001b[0mtf_utils\u001b[0m\u001b[0;34m.\u001b[0m\u001b[0mto_numpy_or_python_type\u001b[0m\u001b[0;34m(\u001b[0m\u001b[0mlogs\u001b[0m\u001b[0;34m)\u001b[0m\u001b[0;34m\u001b[0m\u001b[0;34m\u001b[0m\u001b[0m\n\u001b[0m\u001b[1;32m   1085\u001b[0m       \u001b[0mself\u001b[0m\u001b[0;34m.\u001b[0m\u001b[0mprogbar\u001b[0m\u001b[0;34m.\u001b[0m\u001b[0mupdate\u001b[0m\u001b[0;34m(\u001b[0m\u001b[0mself\u001b[0m\u001b[0;34m.\u001b[0m\u001b[0mseen\u001b[0m\u001b[0;34m,\u001b[0m \u001b[0mlist\u001b[0m\u001b[0;34m(\u001b[0m\u001b[0mlogs\u001b[0m\u001b[0;34m.\u001b[0m\u001b[0mitems\u001b[0m\u001b[0;34m(\u001b[0m\u001b[0;34m)\u001b[0m\u001b[0;34m)\u001b[0m\u001b[0;34m,\u001b[0m \u001b[0mfinalize\u001b[0m\u001b[0;34m=\u001b[0m\u001b[0;32mFalse\u001b[0m\u001b[0;34m)\u001b[0m\u001b[0;34m\u001b[0m\u001b[0;34m\u001b[0m\u001b[0m\n\u001b[1;32m   1086\u001b[0m \u001b[0;34m\u001b[0m\u001b[0m\n",
            "\u001b[0;32m/usr/local/lib/python3.7/dist-packages/tensorflow/python/keras/utils/tf_utils.py\u001b[0m in \u001b[0;36mto_numpy_or_python_type\u001b[0;34m(tensors)\u001b[0m\n\u001b[1;32m    512\u001b[0m     \u001b[0;32mreturn\u001b[0m \u001b[0mt\u001b[0m  \u001b[0;31m# Don't turn ragged or sparse tensors to NumPy.\u001b[0m\u001b[0;34m\u001b[0m\u001b[0;34m\u001b[0m\u001b[0m\n\u001b[1;32m    513\u001b[0m \u001b[0;34m\u001b[0m\u001b[0m\n\u001b[0;32m--> 514\u001b[0;31m   \u001b[0;32mreturn\u001b[0m \u001b[0mnest\u001b[0m\u001b[0;34m.\u001b[0m\u001b[0mmap_structure\u001b[0m\u001b[0;34m(\u001b[0m\u001b[0m_to_single_numpy_or_python_type\u001b[0m\u001b[0;34m,\u001b[0m \u001b[0mtensors\u001b[0m\u001b[0;34m)\u001b[0m\u001b[0;34m\u001b[0m\u001b[0;34m\u001b[0m\u001b[0m\n\u001b[0m\u001b[1;32m    515\u001b[0m \u001b[0;34m\u001b[0m\u001b[0m\n\u001b[1;32m    516\u001b[0m \u001b[0;34m\u001b[0m\u001b[0m\n",
            "\u001b[0;32m/usr/local/lib/python3.7/dist-packages/tensorflow/python/util/nest.py\u001b[0m in \u001b[0;36mmap_structure\u001b[0;34m(func, *structure, **kwargs)\u001b[0m\n\u001b[1;32m    657\u001b[0m \u001b[0;34m\u001b[0m\u001b[0m\n\u001b[1;32m    658\u001b[0m   return pack_sequence_as(\n\u001b[0;32m--> 659\u001b[0;31m       \u001b[0mstructure\u001b[0m\u001b[0;34m[\u001b[0m\u001b[0;36m0\u001b[0m\u001b[0;34m]\u001b[0m\u001b[0;34m,\u001b[0m \u001b[0;34m[\u001b[0m\u001b[0mfunc\u001b[0m\u001b[0;34m(\u001b[0m\u001b[0;34m*\u001b[0m\u001b[0mx\u001b[0m\u001b[0;34m)\u001b[0m \u001b[0;32mfor\u001b[0m \u001b[0mx\u001b[0m \u001b[0;32min\u001b[0m \u001b[0mentries\u001b[0m\u001b[0;34m]\u001b[0m\u001b[0;34m,\u001b[0m\u001b[0;34m\u001b[0m\u001b[0;34m\u001b[0m\u001b[0m\n\u001b[0m\u001b[1;32m    660\u001b[0m       expand_composites=expand_composites)\n\u001b[1;32m    661\u001b[0m \u001b[0;34m\u001b[0m\u001b[0m\n",
            "\u001b[0;32m/usr/local/lib/python3.7/dist-packages/tensorflow/python/util/nest.py\u001b[0m in \u001b[0;36m<listcomp>\u001b[0;34m(.0)\u001b[0m\n\u001b[1;32m    657\u001b[0m \u001b[0;34m\u001b[0m\u001b[0m\n\u001b[1;32m    658\u001b[0m   return pack_sequence_as(\n\u001b[0;32m--> 659\u001b[0;31m       \u001b[0mstructure\u001b[0m\u001b[0;34m[\u001b[0m\u001b[0;36m0\u001b[0m\u001b[0;34m]\u001b[0m\u001b[0;34m,\u001b[0m \u001b[0;34m[\u001b[0m\u001b[0mfunc\u001b[0m\u001b[0;34m(\u001b[0m\u001b[0;34m*\u001b[0m\u001b[0mx\u001b[0m\u001b[0;34m)\u001b[0m \u001b[0;32mfor\u001b[0m \u001b[0mx\u001b[0m \u001b[0;32min\u001b[0m \u001b[0mentries\u001b[0m\u001b[0;34m]\u001b[0m\u001b[0;34m,\u001b[0m\u001b[0;34m\u001b[0m\u001b[0;34m\u001b[0m\u001b[0m\n\u001b[0m\u001b[1;32m    660\u001b[0m       expand_composites=expand_composites)\n\u001b[1;32m    661\u001b[0m \u001b[0;34m\u001b[0m\u001b[0m\n",
            "\u001b[0;32m/usr/local/lib/python3.7/dist-packages/tensorflow/python/keras/utils/tf_utils.py\u001b[0m in \u001b[0;36m_to_single_numpy_or_python_type\u001b[0;34m(t)\u001b[0m\n\u001b[1;32m    508\u001b[0m   \u001b[0;32mdef\u001b[0m \u001b[0m_to_single_numpy_or_python_type\u001b[0m\u001b[0;34m(\u001b[0m\u001b[0mt\u001b[0m\u001b[0;34m)\u001b[0m\u001b[0;34m:\u001b[0m\u001b[0;34m\u001b[0m\u001b[0;34m\u001b[0m\u001b[0m\n\u001b[1;32m    509\u001b[0m     \u001b[0;32mif\u001b[0m \u001b[0misinstance\u001b[0m\u001b[0;34m(\u001b[0m\u001b[0mt\u001b[0m\u001b[0;34m,\u001b[0m \u001b[0mops\u001b[0m\u001b[0;34m.\u001b[0m\u001b[0mTensor\u001b[0m\u001b[0;34m)\u001b[0m\u001b[0;34m:\u001b[0m\u001b[0;34m\u001b[0m\u001b[0;34m\u001b[0m\u001b[0m\n\u001b[0;32m--> 510\u001b[0;31m       \u001b[0mx\u001b[0m \u001b[0;34m=\u001b[0m \u001b[0mt\u001b[0m\u001b[0;34m.\u001b[0m\u001b[0mnumpy\u001b[0m\u001b[0;34m(\u001b[0m\u001b[0;34m)\u001b[0m\u001b[0;34m\u001b[0m\u001b[0;34m\u001b[0m\u001b[0m\n\u001b[0m\u001b[1;32m    511\u001b[0m       \u001b[0;32mreturn\u001b[0m \u001b[0mx\u001b[0m\u001b[0;34m.\u001b[0m\u001b[0mitem\u001b[0m\u001b[0;34m(\u001b[0m\u001b[0;34m)\u001b[0m \u001b[0;32mif\u001b[0m \u001b[0mnp\u001b[0m\u001b[0;34m.\u001b[0m\u001b[0mndim\u001b[0m\u001b[0;34m(\u001b[0m\u001b[0mx\u001b[0m\u001b[0;34m)\u001b[0m \u001b[0;34m==\u001b[0m \u001b[0;36m0\u001b[0m \u001b[0;32melse\u001b[0m \u001b[0mx\u001b[0m\u001b[0;34m\u001b[0m\u001b[0;34m\u001b[0m\u001b[0m\n\u001b[1;32m    512\u001b[0m     \u001b[0;32mreturn\u001b[0m \u001b[0mt\u001b[0m  \u001b[0;31m# Don't turn ragged or sparse tensors to NumPy.\u001b[0m\u001b[0;34m\u001b[0m\u001b[0;34m\u001b[0m\u001b[0m\n",
            "\u001b[0;32m/usr/local/lib/python3.7/dist-packages/tensorflow/python/framework/ops.py\u001b[0m in \u001b[0;36mnumpy\u001b[0;34m(self)\u001b[0m\n\u001b[1;32m   1069\u001b[0m     \"\"\"\n\u001b[1;32m   1070\u001b[0m     \u001b[0;31m# TODO(slebedev): Consider avoiding a copy for non-CPU or remote tensors.\u001b[0m\u001b[0;34m\u001b[0m\u001b[0;34m\u001b[0m\u001b[0;34m\u001b[0m\u001b[0m\n\u001b[0;32m-> 1071\u001b[0;31m     \u001b[0mmaybe_arr\u001b[0m \u001b[0;34m=\u001b[0m \u001b[0mself\u001b[0m\u001b[0;34m.\u001b[0m\u001b[0m_numpy\u001b[0m\u001b[0;34m(\u001b[0m\u001b[0;34m)\u001b[0m  \u001b[0;31m# pylint: disable=protected-access\u001b[0m\u001b[0;34m\u001b[0m\u001b[0;34m\u001b[0m\u001b[0m\n\u001b[0m\u001b[1;32m   1072\u001b[0m     \u001b[0;32mreturn\u001b[0m \u001b[0mmaybe_arr\u001b[0m\u001b[0;34m.\u001b[0m\u001b[0mcopy\u001b[0m\u001b[0;34m(\u001b[0m\u001b[0;34m)\u001b[0m \u001b[0;32mif\u001b[0m \u001b[0misinstance\u001b[0m\u001b[0;34m(\u001b[0m\u001b[0mmaybe_arr\u001b[0m\u001b[0;34m,\u001b[0m \u001b[0mnp\u001b[0m\u001b[0;34m.\u001b[0m\u001b[0mndarray\u001b[0m\u001b[0;34m)\u001b[0m \u001b[0;32melse\u001b[0m \u001b[0mmaybe_arr\u001b[0m\u001b[0;34m\u001b[0m\u001b[0;34m\u001b[0m\u001b[0m\n\u001b[1;32m   1073\u001b[0m \u001b[0;34m\u001b[0m\u001b[0m\n",
            "\u001b[0;32m/usr/local/lib/python3.7/dist-packages/tensorflow/python/framework/ops.py\u001b[0m in \u001b[0;36m_numpy\u001b[0;34m(self)\u001b[0m\n\u001b[1;32m   1035\u001b[0m   \u001b[0;32mdef\u001b[0m \u001b[0m_numpy\u001b[0m\u001b[0;34m(\u001b[0m\u001b[0mself\u001b[0m\u001b[0;34m)\u001b[0m\u001b[0;34m:\u001b[0m\u001b[0;34m\u001b[0m\u001b[0;34m\u001b[0m\u001b[0m\n\u001b[1;32m   1036\u001b[0m     \u001b[0;32mtry\u001b[0m\u001b[0;34m:\u001b[0m\u001b[0;34m\u001b[0m\u001b[0;34m\u001b[0m\u001b[0m\n\u001b[0;32m-> 1037\u001b[0;31m       \u001b[0;32mreturn\u001b[0m \u001b[0mself\u001b[0m\u001b[0;34m.\u001b[0m\u001b[0m_numpy_internal\u001b[0m\u001b[0;34m(\u001b[0m\u001b[0;34m)\u001b[0m\u001b[0;34m\u001b[0m\u001b[0;34m\u001b[0m\u001b[0m\n\u001b[0m\u001b[1;32m   1038\u001b[0m     \u001b[0;32mexcept\u001b[0m \u001b[0mcore\u001b[0m\u001b[0;34m.\u001b[0m\u001b[0m_NotOkStatusException\u001b[0m \u001b[0;32mas\u001b[0m \u001b[0me\u001b[0m\u001b[0;34m:\u001b[0m  \u001b[0;31m# pylint: disable=protected-access\u001b[0m\u001b[0;34m\u001b[0m\u001b[0;34m\u001b[0m\u001b[0m\n\u001b[1;32m   1039\u001b[0m       \u001b[0msix\u001b[0m\u001b[0;34m.\u001b[0m\u001b[0mraise_from\u001b[0m\u001b[0;34m(\u001b[0m\u001b[0mcore\u001b[0m\u001b[0;34m.\u001b[0m\u001b[0m_status_to_exception\u001b[0m\u001b[0;34m(\u001b[0m\u001b[0me\u001b[0m\u001b[0;34m.\u001b[0m\u001b[0mcode\u001b[0m\u001b[0;34m,\u001b[0m \u001b[0me\u001b[0m\u001b[0;34m.\u001b[0m\u001b[0mmessage\u001b[0m\u001b[0;34m)\u001b[0m\u001b[0;34m,\u001b[0m \u001b[0;32mNone\u001b[0m\u001b[0;34m)\u001b[0m  \u001b[0;31m# pylint: disable=protected-access\u001b[0m\u001b[0;34m\u001b[0m\u001b[0;34m\u001b[0m\u001b[0m\n",
            "\u001b[0;31mKeyboardInterrupt\u001b[0m: "
          ]
        }
      ]
    },
    {
      "cell_type": "code",
      "metadata": {
        "id": "rs8nB5oNJhW2"
      },
      "source": [
        "import matplotlib.pyplot as plt\n",
        "\n",
        "plt.plot(history.history['accuracy'])\n",
        "plt.plot(history.history['val_accuracy'])\n",
        "plt.title('model accuracy')\n",
        "plt.ylabel('accuracy')\n",
        "plt.xlabel('epoch')\n",
        "plt.legend(['train', 'test'], loc='upper left')\n",
        "plt.show()\n",
        "# summarize history for loss\n",
        "plt.plot(history.history['loss'])\n",
        "plt.plot(history.history['val_loss'])\n",
        "plt.title('model loss')\n",
        "plt.ylabel('loss')\n",
        "plt.xlabel('epoch')\n",
        "plt.legend(['train', 'test'], loc='upper left')\n",
        "plt.show()"
      ],
      "execution_count": null,
      "outputs": []
    },
    {
      "cell_type": "markdown",
      "metadata": {
        "id": "AoDP1mLOJby9"
      },
      "source": [
        "### Results"
      ]
    },
    {
      "cell_type": "code",
      "metadata": {
        "id": "NTwTs_J_AjUU"
      },
      "source": [
        "y_conf = model.predict(pad_rev_test)"
      ],
      "execution_count": 79,
      "outputs": []
    },
    {
      "cell_type": "code",
      "metadata": {
        "colab": {
          "base_uri": "https://localhost:8080/"
        },
        "id": "Bx-N4R_hGEvO",
        "outputId": "99f7bcc2-b6a5-4a4f-f8c0-5c2704417b0d"
      },
      "source": [
        "y_conf.shape"
      ],
      "execution_count": 80,
      "outputs": [
        {
          "output_type": "execute_result",
          "data": {
            "text/plain": [
              "(885, 1)"
            ]
          },
          "metadata": {
            "tags": []
          },
          "execution_count": 80
        }
      ]
    },
    {
      "cell_type": "code",
      "metadata": {
        "colab": {
          "base_uri": "https://localhost:8080/"
        },
        "id": "0DyfGhSoAjUX",
        "outputId": "c5b6fee1-5555-49fe-b71e-aa0658de313a"
      },
      "source": [
        "from sklearn.metrics import auc\n",
        "from sklearn import metrics\n",
        "fpr, tpr, thresholds = metrics.roc_curve(y_test, y_conf, pos_label=1)\n",
        "print(auc(fpr,tpr))"
      ],
      "execution_count": 81,
      "outputs": [
        {
          "output_type": "stream",
          "text": [
            "0.9352209458418609\n"
          ],
          "name": "stdout"
        }
      ]
    },
    {
      "cell_type": "code",
      "metadata": {
        "id": "wvBN_6XbA0Gf"
      },
      "source": [
        "y_pred = np.array([i>=0.5 for i in y_conf])"
      ],
      "execution_count": 82,
      "outputs": []
    },
    {
      "cell_type": "code",
      "metadata": {
        "colab": {
          "base_uri": "https://localhost:8080/"
        },
        "id": "LoaEl2f3AjUX",
        "outputId": "41586a03-17bf-4433-f344-c805cdd11e28"
      },
      "source": [
        "from sklearn.metrics import classification_report, confusion_matrix\n",
        "print(classification_report(y_test, y_pred))\n",
        "print(confusion_matrix(y_test,y_pred))"
      ],
      "execution_count": 83,
      "outputs": [
        {
          "output_type": "stream",
          "text": [
            "              precision    recall  f1-score   support\n",
            "\n",
            "           0       0.82      0.84      0.83       324\n",
            "           1       0.91      0.90      0.90       561\n",
            "\n",
            "    accuracy                           0.88       885\n",
            "   macro avg       0.87      0.87      0.87       885\n",
            "weighted avg       0.88      0.88      0.88       885\n",
            "\n",
            "[[272  52]\n",
            " [ 58 503]]\n"
          ],
          "name": "stdout"
        }
      ]
    },
    {
      "cell_type": "code",
      "metadata": {
        "colab": {
          "base_uri": "https://localhost:8080/"
        },
        "id": "PtrxGqUahb3b",
        "outputId": "0d7f774d-d8ca-44ae-a328-6dbdc1e0032d"
      },
      "source": [
        "from sklearn.metrics import accuracy_score\n",
        "round(accuracy_score(y_test,y_pred),2)"
      ],
      "execution_count": 84,
      "outputs": [
        {
          "output_type": "execute_result",
          "data": {
            "text/plain": [
              "0.88"
            ]
          },
          "metadata": {
            "tags": []
          },
          "execution_count": 84
        }
      ]
    },
    {
      "cell_type": "code",
      "metadata": {
        "colab": {
          "base_uri": "https://localhost:8080/"
        },
        "id": "1cwP3vl1hWX6",
        "outputId": "b386bfde-be43-4b01-b0ad-bfc9de7b3735"
      },
      "source": [
        "from sklearn.metrics import cohen_kappa_score\n",
        "cohen_kappa_score(y_test,y_pred)"
      ],
      "execution_count": 134,
      "outputs": [
        {
          "output_type": "execute_result",
          "data": {
            "text/plain": [
              "0.7332511302918208"
            ]
          },
          "metadata": {
            "tags": []
          },
          "execution_count": 134
        }
      ]
    },
    {
      "cell_type": "code",
      "metadata": {
        "colab": {
          "base_uri": "https://localhost:8080/",
          "height": 294
        },
        "id": "0nhctu-7BTis",
        "outputId": "2016f5a6-16bf-46a9-87a2-d6fa26b6df9a"
      },
      "source": [
        "import matplotlib.pyplot as plt\n",
        "plt.title('Receiver Operating Characteristic')\n",
        "plt.plot(fpr, tpr, 'b', label = 'AUC = %0.2f' % auc(fpr,tpr))\n",
        "plt.legend(loc = 'lower right')\n",
        "plt.plot([0, 1], [0, 1],'r--')\n",
        "plt.xlim([0, 1])\n",
        "plt.ylim([0, 1])\n",
        "plt.ylabel('True Positive Rate')\n",
        "plt.xlabel('False Positive Rate')\n",
        "plt.show()\n"
      ],
      "execution_count": 135,
      "outputs": [
        {
          "output_type": "display_data",
          "data": {
            "image/png": "[encoded data removed]",
            "text/plain": [
              "<Figure size 432x288 with 1 Axes>"
            ]
          },
          "metadata": {
            "tags": [],
            "needs_background": "light"
          }
        }
      ]
    },
    {
      "cell_type": "code",
      "metadata": {
        "colab": {
          "base_uri": "https://localhost:8080/",
          "height": 466
        },
        "id": "hT-8-8c1f1MP",
        "outputId": "03495dfb-35f7-40e3-be84-847e71cf7a64"
      },
      "source": [
        "import numpy as np\n",
        "\n",
        "\n",
        "def plot_confusion_matrix(cm,\n",
        "                          target_names,\n",
        "                          title='Confusion matrix',\n",
        "                          cmap=None,\n",
        "                          normalize=True):\n",
        "    \"\"\"\n",
        "    given a sklearn confusion matrix (cm), make a nice plot\n",
        "\n",
        "    Arguments\n",
        "    ---------\n",
        "    cm:           confusion matrix from sklearn.metrics.confusion_matrix\n",
        "\n",
        "    target_names: given classification classes such as [0, 1, 2]\n",
        "                  the class names, for example: ['high', 'medium', 'low']\n",
        "\n",
        "    title:        the text to display at the top of the matrix\n",
        "\n",
        "    cmap:         the gradient of the values displayed from matplotlib.pyplot.cm\n",
        "                  see http://matplotlib.org/examples/color/colormaps_reference.html\n",
        "                  plt.get_cmap('jet') or plt.cm.Blues\n",
        "\n",
        "    normalize:    If False, plot the raw numbers\n",
        "                  If True, plot the proportions\n",
        "\n",
        "    Usage\n",
        "    -----\n",
        "    plot_confusion_matrix(cm           = cm,                  # confusion matrix created by\n",
        "                                                              # sklearn.metrics.confusion_matrix\n",
        "                          normalize    = True,                # show proportions\n",
        "                          target_names = y_labels_vals,       # list of names of the classes\n",
        "                          title        = best_estimator_name) # title of graph\n",
        "\n",
        "    Citiation\n",
        "    ---------\n",
        "    http://scikit-learn.org/stable/auto_examples/model_selection/plot_confusion_matrix.html\n",
        "\n",
        "    \"\"\"\n",
        "    import matplotlib.pyplot as plt\n",
        "    import numpy as np\n",
        "    import itertools\n",
        "\n",
        "    accuracy = np.trace(cm) / float(np.sum(cm))\n",
        "    misclass = 1 - accuracy\n",
        "\n",
        "    if cmap is None:\n",
        "        cmap = plt.get_cmap('Blues')\n",
        "\n",
        "    plt.figure(figsize=(8, 6))\n",
        "    plt.imshow(cm, interpolation='nearest', cmap=cmap)\n",
        "    plt.title(title)\n",
        "    plt.colorbar()\n",
        "\n",
        "    if target_names is not None:\n",
        "        tick_marks = np.arange(len(target_names))\n",
        "        plt.xticks(tick_marks, target_names, rotation=45)\n",
        "        plt.yticks(tick_marks, target_names)\n",
        "\n",
        "    if normalize:\n",
        "        cm = cm.astype('float') / cm.sum(axis=1)[:, np.newaxis]\n",
        "\n",
        "\n",
        "    thresh = cm.max() / 1.5 if normalize else cm.max() / 2\n",
        "    for i, j in itertools.product(range(cm.shape[0]), range(cm.shape[1])):\n",
        "        if normalize:\n",
        "            plt.text(j, i, \"{:0.4f}\".format(cm[i, j]),\n",
        "                     horizontalalignment=\"center\",\n",
        "                     color=\"white\" if cm[i, j] > thresh else \"black\")\n",
        "        else:\n",
        "            plt.text(j, i, \"{:,}\".format(cm[i, j]),\n",
        "                     horizontalalignment=\"center\",\n",
        "                     color=\"white\" if cm[i, j] > thresh else \"black\")\n",
        "\n",
        "\n",
        "    plt.tight_layout()\n",
        "    plt.ylabel('True label')\n",
        "    plt.xlabel('Predicted label\\naccuracy={:0.4f}; misclass={:0.4f}'.format(accuracy, misclass))\n",
        "    plt.show()\n",
        "\n",
        "plot_confusion_matrix(cm           = np.array([[272 ,52],[ 58 ,503]]), \n",
        "                      normalize    = False,\n",
        "                      target_names = ['Non-credible', 'Credible'],\n",
        "                      title        = \"Confusion Matrix\")"
      ],
      "execution_count": 87,
      "outputs": [
        {
          "output_type": "display_data",
          "data": {
            "image/png": "[encoded data removed]",
            "text/plain": [
              "<Figure size 576x432 with 2 Axes>"
            ]
          },
          "metadata": {
            "tags": [],
            "needs_background": "light"
          }
        }
      ]
    },
    {
      "cell_type": "code",
      "metadata": {
        "id": "PsYZUD_4eGUZ"
      },
      "source": [
        "# model.save('fasttext_attention+bilstm_best_model.h5')"
      ],
      "execution_count": null,
      "outputs": []
    },
    {
      "cell_type": "code",
      "metadata": {
        "id": "XkwoQdRAxStV"
      },
      "source": [
        ""
      ],
      "execution_count": null,
      "outputs": []
    }
  ]
}